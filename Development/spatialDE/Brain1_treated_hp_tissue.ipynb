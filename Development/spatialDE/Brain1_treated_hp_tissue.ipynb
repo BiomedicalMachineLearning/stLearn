{
 "cells": [
  {
   "cell_type": "code",
   "execution_count": 8,
   "metadata": {},
   "outputs": [
    {
     "name": "stdout",
     "output_type": "stream",
     "text": [
      "Populating the interactive namespace from numpy and matplotlib\n"
     ]
    }
   ],
   "source": [
    "%pylab inline\n",
    "import pandas as pd\n",
    "\n",
    "rcParams['axes.spines.right'] = False\n",
    "rcParams['axes.spines.top'] = False\n",
    "\n",
    "import NaiveDE\n",
    "import SpatialDE"
   ]
  },
  {
   "cell_type": "code",
   "execution_count": 9,
   "metadata": {},
   "outputs": [
    {
     "name": "stdout",
     "output_type": "stream",
     "text": [
      "(58, 10947)\n"
     ]
    },
    {
     "data": {
      "text/html": [
       "<div>\n",
       "<style scoped>\n",
       "    .dataframe tbody tr th:only-of-type {\n",
       "        vertical-align: middle;\n",
       "    }\n",
       "\n",
       "    .dataframe tbody tr th {\n",
       "        vertical-align: top;\n",
       "    }\n",
       "\n",
       "    .dataframe thead th {\n",
       "        text-align: right;\n",
       "    }\n",
       "</style>\n",
       "<table border=\"1\" class=\"dataframe\">\n",
       "  <thead>\n",
       "    <tr style=\"text-align: right;\">\n",
       "      <th></th>\n",
       "      <th>ENSMUSG00000102331</th>\n",
       "      <th>ENSMUSG00000098104</th>\n",
       "      <th>ENSMUSG00000033845</th>\n",
       "      <th>ENSMUSG00000025903</th>\n",
       "      <th>ENSMUSG00000033813</th>\n",
       "    </tr>\n",
       "  </thead>\n",
       "  <tbody>\n",
       "    <tr>\n",
       "      <td>18.99x18.1</td>\n",
       "      <td>0.0</td>\n",
       "      <td>0.0</td>\n",
       "      <td>0.0</td>\n",
       "      <td>0.0</td>\n",
       "      <td>0.0</td>\n",
       "    </tr>\n",
       "    <tr>\n",
       "      <td>18.99x19.11</td>\n",
       "      <td>0.0</td>\n",
       "      <td>0.0</td>\n",
       "      <td>0.0</td>\n",
       "      <td>0.0</td>\n",
       "      <td>0.0</td>\n",
       "    </tr>\n",
       "    <tr>\n",
       "      <td>18.99x19.99</td>\n",
       "      <td>0.0</td>\n",
       "      <td>0.0</td>\n",
       "      <td>0.0</td>\n",
       "      <td>3.0</td>\n",
       "      <td>0.0</td>\n",
       "    </tr>\n",
       "    <tr>\n",
       "      <td>20.01x17.08</td>\n",
       "      <td>0.0</td>\n",
       "      <td>0.0</td>\n",
       "      <td>0.0</td>\n",
       "      <td>0.0</td>\n",
       "      <td>0.0</td>\n",
       "    </tr>\n",
       "    <tr>\n",
       "      <td>20.01x18.1</td>\n",
       "      <td>1.0</td>\n",
       "      <td>0.0</td>\n",
       "      <td>0.0</td>\n",
       "      <td>0.0</td>\n",
       "      <td>0.0</td>\n",
       "    </tr>\n",
       "  </tbody>\n",
       "</table>\n",
       "</div>"
      ],
      "text/plain": [
       "             ENSMUSG00000102331  ENSMUSG00000098104  ENSMUSG00000033845  \\\n",
       "18.99x18.1                  0.0                 0.0                 0.0   \n",
       "18.99x19.11                 0.0                 0.0                 0.0   \n",
       "18.99x19.99                 0.0                 0.0                 0.0   \n",
       "20.01x17.08                 0.0                 0.0                 0.0   \n",
       "20.01x18.1                  1.0                 0.0                 0.0   \n",
       "\n",
       "             ENSMUSG00000025903  ENSMUSG00000033813  \n",
       "18.99x18.1                  0.0                 0.0  \n",
       "18.99x19.11                 0.0                 0.0  \n",
       "18.99x19.99                 3.0                 0.0  \n",
       "20.01x17.08                 0.0                 0.0  \n",
       "20.01x18.1                  0.0                 0.0  "
      ]
     },
     "execution_count": 9,
     "metadata": {},
     "output_type": "execute_result"
    }
   ],
   "source": [
    "counts = pd.read_csv('Data/Brain1_treated_hp_tissue.tsv', sep='\\t',index_col=0)\n",
    "counts = counts.T[counts.sum(0) >= 3].T  # Filter practically unobserved genes\n",
    "print(counts.shape)\n",
    "counts.iloc[:5, :5]"
   ]
  },
  {
   "cell_type": "code",
   "execution_count": 10,
   "metadata": {},
   "outputs": [
    {
     "data": {
      "text/html": [
       "<div>\n",
       "<style scoped>\n",
       "    .dataframe tbody tr th:only-of-type {\n",
       "        vertical-align: middle;\n",
       "    }\n",
       "\n",
       "    .dataframe tbody tr th {\n",
       "        vertical-align: top;\n",
       "    }\n",
       "\n",
       "    .dataframe thead th {\n",
       "        text-align: right;\n",
       "    }\n",
       "</style>\n",
       "<table border=\"1\" class=\"dataframe\">\n",
       "  <thead>\n",
       "    <tr style=\"text-align: right;\">\n",
       "      <th></th>\n",
       "      <th>x</th>\n",
       "      <th>y</th>\n",
       "      <th>total_counts</th>\n",
       "    </tr>\n",
       "  </thead>\n",
       "  <tbody>\n",
       "    <tr>\n",
       "      <td>18.99x18.1</td>\n",
       "      <td>18.99</td>\n",
       "      <td>18.10</td>\n",
       "      <td>3500.0</td>\n",
       "    </tr>\n",
       "    <tr>\n",
       "      <td>18.99x19.11</td>\n",
       "      <td>18.99</td>\n",
       "      <td>19.11</td>\n",
       "      <td>4287.0</td>\n",
       "    </tr>\n",
       "    <tr>\n",
       "      <td>18.99x19.99</td>\n",
       "      <td>18.99</td>\n",
       "      <td>19.99</td>\n",
       "      <td>9356.0</td>\n",
       "    </tr>\n",
       "    <tr>\n",
       "      <td>20.01x17.08</td>\n",
       "      <td>20.01</td>\n",
       "      <td>17.08</td>\n",
       "      <td>7184.0</td>\n",
       "    </tr>\n",
       "    <tr>\n",
       "      <td>20.01x18.1</td>\n",
       "      <td>20.01</td>\n",
       "      <td>18.10</td>\n",
       "      <td>10844.0</td>\n",
       "    </tr>\n",
       "  </tbody>\n",
       "</table>\n",
       "</div>"
      ],
      "text/plain": [
       "                 x      y  total_counts\n",
       "18.99x18.1   18.99  18.10        3500.0\n",
       "18.99x19.11  18.99  19.11        4287.0\n",
       "18.99x19.99  18.99  19.99        9356.0\n",
       "20.01x17.08  20.01  17.08        7184.0\n",
       "20.01x18.1   20.01  18.10       10844.0"
      ]
     },
     "execution_count": 10,
     "metadata": {},
     "output_type": "execute_result"
    }
   ],
   "source": [
    "sample_info = pd.DataFrame(0, index = counts.index, columns = ['x','y','total_counts'])\n",
    "sample_info.loc[:,'x'] = [float(item.split('x')[0]) for item in sample_info.index]\n",
    "sample_info.loc[:,'y'] = [float(item.split('x')[1]) for item in sample_info.index]\n",
    "sample_info.loc[:,'total_counts'] = counts.sum(axis=1)\n",
    "sample_info.head(5)"
   ]
  },
  {
   "cell_type": "code",
   "execution_count": 11,
   "metadata": {},
   "outputs": [
    {
     "data": {
      "image/png": "[encoded data removed]",
      "text/plain": [
       "<Figure size 432x288 with 1 Axes>"
      ]
     },
     "metadata": {
      "needs_background": "light"
     },
     "output_type": "display_data"
    }
   ],
   "source": [
    "figsize(6, 4)\n",
    "plt.scatter(sample_info['x'], sample_info['y'], c='k');\n",
    "plt.axis('equal');"
   ]
  },
  {
   "cell_type": "code",
   "execution_count": 12,
   "metadata": {},
   "outputs": [],
   "source": [
    "norm_expr = NaiveDE.stabilize(counts.T).T\n",
    "resid_expr = NaiveDE.regress_out(sample_info, norm_expr.T, 'np.log(total_counts)').T"
   ]
  },
  {
   "cell_type": "code",
   "execution_count": 13,
   "metadata": {},
   "outputs": [
    {
     "data": {
      "application/vnd.jupyter.widget-view+json": {
       "model_id": "b92f0111ef1c46fcbdc111f34f3557aa",
       "version_major": 2,
       "version_minor": 0
      },
      "text/plain": [
       "HBox(children=(IntProgress(value=0, description='Models: ', max=10, style=ProgressStyle(description_width='ini…"
      ]
     },
     "metadata": {},
     "output_type": "display_data"
    },
    {
     "data": {
      "application/vnd.jupyter.widget-view+json": {
       "model_id": "",
       "version_major": 2,
       "version_minor": 0
      },
      "text/plain": [
       "HBox(children=(IntProgress(value=0, max=10947), HTML(value='')))"
      ]
     },
     "metadata": {},
     "output_type": "display_data"
    },
    {
     "data": {
      "application/vnd.jupyter.widget-view+json": {
       "model_id": "",
       "version_major": 2,
       "version_minor": 0
      },
      "text/plain": [
       "HBox(children=(IntProgress(value=0, max=10947), HTML(value='')))"
      ]
     },
     "metadata": {},
     "output_type": "display_data"
    },
    {
     "data": {
      "application/vnd.jupyter.widget-view+json": {
       "model_id": "",
       "version_major": 2,
       "version_minor": 0
      },
      "text/plain": [
       "HBox(children=(IntProgress(value=0, max=10947), HTML(value='')))"
      ]
     },
     "metadata": {},
     "output_type": "display_data"
    },
    {
     "data": {
      "application/vnd.jupyter.widget-view+json": {
       "model_id": "",
       "version_major": 2,
       "version_minor": 0
      },
      "text/plain": [
       "HBox(children=(IntProgress(value=0, max=10947), HTML(value='')))"
      ]
     },
     "metadata": {},
     "output_type": "display_data"
    },
    {
     "data": {
      "application/vnd.jupyter.widget-view+json": {
       "model_id": "",
       "version_major": 2,
       "version_minor": 0
      },
      "text/plain": [
       "HBox(children=(IntProgress(value=0, max=10947), HTML(value='')))"
      ]
     },
     "metadata": {},
     "output_type": "display_data"
    },
    {
     "data": {
      "application/vnd.jupyter.widget-view+json": {
       "model_id": "",
       "version_major": 2,
       "version_minor": 0
      },
      "text/plain": [
       "HBox(children=(IntProgress(value=0, max=10947), HTML(value='')))"
      ]
     },
     "metadata": {},
     "output_type": "display_data"
    },
    {
     "data": {
      "application/vnd.jupyter.widget-view+json": {
       "model_id": "",
       "version_major": 2,
       "version_minor": 0
      },
      "text/plain": [
       "HBox(children=(IntProgress(value=0, max=10947), HTML(value='')))"
      ]
     },
     "metadata": {},
     "output_type": "display_data"
    },
    {
     "data": {
      "application/vnd.jupyter.widget-view+json": {
       "model_id": "",
       "version_major": 2,
       "version_minor": 0
      },
      "text/plain": [
       "HBox(children=(IntProgress(value=0, max=10947), HTML(value='')))"
      ]
     },
     "metadata": {},
     "output_type": "display_data"
    },
    {
     "data": {
      "application/vnd.jupyter.widget-view+json": {
       "model_id": "",
       "version_major": 2,
       "version_minor": 0
      },
      "text/plain": [
       "HBox(children=(IntProgress(value=0, max=10947), HTML(value='')))"
      ]
     },
     "metadata": {},
     "output_type": "display_data"
    },
    {
     "data": {
      "application/vnd.jupyter.widget-view+json": {
       "model_id": "",
       "version_major": 2,
       "version_minor": 0
      },
      "text/plain": [
       "HBox(children=(IntProgress(value=0, max=10947), HTML(value='')))"
      ]
     },
     "metadata": {},
     "output_type": "display_data"
    },
    {
     "name": "stdout",
     "output_type": "stream",
     "text": [
      "\n"
     ]
    }
   ],
   "source": [
    "sample_resid_expr = resid_expr.sample(n=len(counts.columns), axis=1, random_state=1)\n",
    "\n",
    "X = sample_info[['x', 'y']]\n",
    "sample_resid_expr.head()\n",
    "results = SpatialDE.run(X, sample_resid_expr)"
   ]
  },
  {
   "cell_type": "code",
   "execution_count": 15,
   "metadata": {},
   "outputs": [
    {
     "data": {
      "text/html": [
       "<div>\n",
       "<style scoped>\n",
       "    .dataframe tbody tr th:only-of-type {\n",
       "        vertical-align: middle;\n",
       "    }\n",
       "\n",
       "    .dataframe tbody tr th {\n",
       "        vertical-align: top;\n",
       "    }\n",
       "\n",
       "    .dataframe thead th {\n",
       "        text-align: right;\n",
       "    }\n",
       "</style>\n",
       "<table border=\"1\" class=\"dataframe\">\n",
       "  <thead>\n",
       "    <tr style=\"text-align: right;\">\n",
       "      <th></th>\n",
       "      <th>0</th>\n",
       "      <th>1</th>\n",
       "      <th>2</th>\n",
       "      <th>3</th>\n",
       "      <th>4</th>\n",
       "    </tr>\n",
       "  </thead>\n",
       "  <tbody>\n",
       "    <tr>\n",
       "      <td>FSV</td>\n",
       "      <td>0.497651</td>\n",
       "      <td>2.05217e-09</td>\n",
       "      <td>0.999954</td>\n",
       "      <td>2.05217e-09</td>\n",
       "      <td>0.999954</td>\n",
       "    </tr>\n",
       "    <tr>\n",
       "      <td>M</td>\n",
       "      <td>4</td>\n",
       "      <td>4</td>\n",
       "      <td>4</td>\n",
       "      <td>4</td>\n",
       "      <td>4</td>\n",
       "    </tr>\n",
       "    <tr>\n",
       "      <td>g</td>\n",
       "      <td>ENSMUSG00000062563</td>\n",
       "      <td>ENSMUSG00000096768</td>\n",
       "      <td>ENSMUSG00000048142</td>\n",
       "      <td>ENSMUSG00000025400</td>\n",
       "      <td>ENSMUSG00000024900</td>\n",
       "    </tr>\n",
       "    <tr>\n",
       "      <td>l</td>\n",
       "      <td>0.425735</td>\n",
       "      <td>0.425735</td>\n",
       "      <td>0.425735</td>\n",
       "      <td>0.425735</td>\n",
       "      <td>0.425735</td>\n",
       "    </tr>\n",
       "    <tr>\n",
       "      <td>max_delta</td>\n",
       "      <td>1.00504</td>\n",
       "      <td>4.85165e+08</td>\n",
       "      <td>4.53999e-05</td>\n",
       "      <td>4.85165e+08</td>\n",
       "      <td>4.53999e-05</td>\n",
       "    </tr>\n",
       "    <tr>\n",
       "      <td>max_ll</td>\n",
       "      <td>95.3602</td>\n",
       "      <td>-13.6531</td>\n",
       "      <td>48.5629</td>\n",
       "      <td>66.0805</td>\n",
       "      <td>68.5421</td>\n",
       "    </tr>\n",
       "    <tr>\n",
       "      <td>max_mu_hat</td>\n",
       "      <td>1.14984</td>\n",
       "      <td>-2.85961</td>\n",
       "      <td>0.935807</td>\n",
       "      <td>1.21819</td>\n",
       "      <td>1.23075</td>\n",
       "    </tr>\n",
       "    <tr>\n",
       "      <td>max_s2_t_hat</td>\n",
       "      <td>0.588297</td>\n",
       "      <td>1.70481e-08</td>\n",
       "      <td>0.714674</td>\n",
       "      <td>3.07109e-09</td>\n",
       "      <td>1.22256</td>\n",
       "    </tr>\n",
       "    <tr>\n",
       "      <td>model</td>\n",
       "      <td>SE</td>\n",
       "      <td>SE</td>\n",
       "      <td>SE</td>\n",
       "      <td>SE</td>\n",
       "      <td>SE</td>\n",
       "    </tr>\n",
       "    <tr>\n",
       "      <td>n</td>\n",
       "      <td>58</td>\n",
       "      <td>58</td>\n",
       "      <td>58</td>\n",
       "      <td>58</td>\n",
       "      <td>58</td>\n",
       "    </tr>\n",
       "    <tr>\n",
       "      <td>s2_FSV</td>\n",
       "      <td>218.956</td>\n",
       "      <td>5.37041</td>\n",
       "      <td>7.47716</td>\n",
       "      <td>7.2602</td>\n",
       "      <td>1.7786</td>\n",
       "    </tr>\n",
       "    <tr>\n",
       "      <td>s2_logdelta</td>\n",
       "      <td>4101.35</td>\n",
       "      <td>9.23332e+17</td>\n",
       "      <td>2.60452e+09</td>\n",
       "      <td>1.24824e+18</td>\n",
       "      <td>6.1954e+08</td>\n",
       "    </tr>\n",
       "    <tr>\n",
       "      <td>time</td>\n",
       "      <td>0</td>\n",
       "      <td>0.00745749</td>\n",
       "      <td>0.00199342</td>\n",
       "      <td>0.000997543</td>\n",
       "      <td>0.000996828</td>\n",
       "    </tr>\n",
       "    <tr>\n",
       "      <td>BIC</td>\n",
       "      <td>-174.479</td>\n",
       "      <td>43.548</td>\n",
       "      <td>-80.8841</td>\n",
       "      <td>-115.919</td>\n",
       "      <td>-120.842</td>\n",
       "    </tr>\n",
       "    <tr>\n",
       "      <td>max_ll_null</td>\n",
       "      <td>95.33</td>\n",
       "      <td>-13.6575</td>\n",
       "      <td>48.0432</td>\n",
       "      <td>66.0761</td>\n",
       "      <td>67.5537</td>\n",
       "    </tr>\n",
       "    <tr>\n",
       "      <td>LLR</td>\n",
       "      <td>0.0301495</td>\n",
       "      <td>0.00436054</td>\n",
       "      <td>0.519692</td>\n",
       "      <td>0.00436054</td>\n",
       "      <td>0.988435</td>\n",
       "    </tr>\n",
       "    <tr>\n",
       "      <td>pval</td>\n",
       "      <td>0.862151</td>\n",
       "      <td>0.94735</td>\n",
       "      <td>0.470973</td>\n",
       "      <td>0.94735</td>\n",
       "      <td>0.320125</td>\n",
       "    </tr>\n",
       "    <tr>\n",
       "      <td>qval</td>\n",
       "      <td>0.94735</td>\n",
       "      <td>0.94735</td>\n",
       "      <td>0.94735</td>\n",
       "      <td>0.94735</td>\n",
       "      <td>0.94735</td>\n",
       "    </tr>\n",
       "  </tbody>\n",
       "</table>\n",
       "</div>"
      ],
      "text/plain": [
       "                               0                   1                   2  \\\n",
       "FSV                     0.497651         2.05217e-09            0.999954   \n",
       "M                              4                   4                   4   \n",
       "g             ENSMUSG00000062563  ENSMUSG00000096768  ENSMUSG00000048142   \n",
       "l                       0.425735            0.425735            0.425735   \n",
       "max_delta                1.00504         4.85165e+08         4.53999e-05   \n",
       "max_ll                   95.3602            -13.6531             48.5629   \n",
       "max_mu_hat               1.14984            -2.85961            0.935807   \n",
       "max_s2_t_hat            0.588297         1.70481e-08            0.714674   \n",
       "model                         SE                  SE                  SE   \n",
       "n                             58                  58                  58   \n",
       "s2_FSV                   218.956             5.37041             7.47716   \n",
       "s2_logdelta              4101.35         9.23332e+17         2.60452e+09   \n",
       "time                           0          0.00745749          0.00199342   \n",
       "BIC                     -174.479              43.548            -80.8841   \n",
       "max_ll_null                95.33            -13.6575             48.0432   \n",
       "LLR                    0.0301495          0.00436054            0.519692   \n",
       "pval                    0.862151             0.94735            0.470973   \n",
       "qval                     0.94735             0.94735             0.94735   \n",
       "\n",
       "                               3                   4  \n",
       "FSV                  2.05217e-09            0.999954  \n",
       "M                              4                   4  \n",
       "g             ENSMUSG00000025400  ENSMUSG00000024900  \n",
       "l                       0.425735            0.425735  \n",
       "max_delta            4.85165e+08         4.53999e-05  \n",
       "max_ll                   66.0805             68.5421  \n",
       "max_mu_hat               1.21819             1.23075  \n",
       "max_s2_t_hat         3.07109e-09             1.22256  \n",
       "model                         SE                  SE  \n",
       "n                             58                  58  \n",
       "s2_FSV                    7.2602              1.7786  \n",
       "s2_logdelta          1.24824e+18          6.1954e+08  \n",
       "time                 0.000997543         0.000996828  \n",
       "BIC                     -115.919            -120.842  \n",
       "max_ll_null              66.0761             67.5537  \n",
       "LLR                   0.00436054            0.988435  \n",
       "pval                     0.94735            0.320125  \n",
       "qval                     0.94735             0.94735  "
      ]
     },
     "execution_count": 15,
     "metadata": {},
     "output_type": "execute_result"
    }
   ],
   "source": [
    "results.head().T"
   ]
  },
  {
   "cell_type": "code",
   "execution_count": 16,
   "metadata": {},
   "outputs": [
    {
     "data": {
      "text/html": [
       "<div>\n",
       "<style scoped>\n",
       "    .dataframe tbody tr th:only-of-type {\n",
       "        vertical-align: middle;\n",
       "    }\n",
       "\n",
       "    .dataframe tbody tr th {\n",
       "        vertical-align: top;\n",
       "    }\n",
       "\n",
       "    .dataframe thead th {\n",
       "        text-align: right;\n",
       "    }\n",
       "</style>\n",
       "<table border=\"1\" class=\"dataframe\">\n",
       "  <thead>\n",
       "    <tr style=\"text-align: right;\">\n",
       "      <th></th>\n",
       "      <th>g</th>\n",
       "      <th>l</th>\n",
       "      <th>pval</th>\n",
       "      <th>qval</th>\n",
       "    </tr>\n",
       "  </thead>\n",
       "  <tbody>\n",
       "    <tr>\n",
       "      <td>9469</td>\n",
       "      <td>ENSMUSG00000047648</td>\n",
       "      <td>1.010424</td>\n",
       "      <td>0.000005</td>\n",
       "      <td>0.031711</td>\n",
       "    </tr>\n",
       "    <tr>\n",
       "      <td>9653</td>\n",
       "      <td>ENSMUSG00000035004</td>\n",
       "      <td>1.010424</td>\n",
       "      <td>0.000006</td>\n",
       "      <td>0.031711</td>\n",
       "    </tr>\n",
       "    <tr>\n",
       "      <td>10618</td>\n",
       "      <td>ENSMUSG00000041708</td>\n",
       "      <td>2.398107</td>\n",
       "      <td>0.000019</td>\n",
       "      <td>0.057105</td>\n",
       "    </tr>\n",
       "    <tr>\n",
       "      <td>10809</td>\n",
       "      <td>ENSMUSG00000098178</td>\n",
       "      <td>3.694460</td>\n",
       "      <td>0.000021</td>\n",
       "      <td>0.057105</td>\n",
       "    </tr>\n",
       "    <tr>\n",
       "      <td>10283</td>\n",
       "      <td>ENSMUSG00000064357</td>\n",
       "      <td>1.556633</td>\n",
       "      <td>0.000089</td>\n",
       "      <td>0.097953</td>\n",
       "    </tr>\n",
       "  </tbody>\n",
       "</table>\n",
       "</div>"
      ],
      "text/plain": [
       "                        g         l      pval      qval\n",
       "9469   ENSMUSG00000047648  1.010424  0.000005  0.031711\n",
       "9653   ENSMUSG00000035004  1.010424  0.000006  0.031711\n",
       "10618  ENSMUSG00000041708  2.398107  0.000019  0.057105\n",
       "10809  ENSMUSG00000098178  3.694460  0.000021  0.057105\n",
       "10283  ENSMUSG00000064357  1.556633  0.000089  0.097953"
      ]
     },
     "execution_count": 16,
     "metadata": {},
     "output_type": "execute_result"
    }
   ],
   "source": [
    "results.sort_values('qval').head(5)[['g', 'l', 'pval','qval']]"
   ]
  },
  {
   "cell_type": "code",
   "execution_count": 19,
   "metadata": {},
   "outputs": [
    {
     "data": {
      "image/png": "[encoded data removed]",
      "text/plain": [
       "<Figure size 720x288 with 8 Axes>"
      ]
     },
     "metadata": {
      "needs_background": "light"
     },
     "output_type": "display_data"
    }
   ],
   "source": [
    "figsize(10, 4)\n",
    "for i, g in enumerate(['ENSMUSG00000047648', 'ENSMUSG00000035004', 'ENSMUSG00000041708', 'ENSMUSG00000098178']):\n",
    "    plt.subplot(1, 4, i + 1)\n",
    "    plt.scatter(sample_info['x'], sample_info['y'], c=norm_expr[g]);\n",
    "    plt.title(g)\n",
    "    plt.axis('equal')\n",
    "\n",
    "\n",
    "    plt.colorbar(ticks=[]);"
   ]
  },
  {
   "cell_type": "code",
   "execution_count": 20,
   "metadata": {},
   "outputs": [
    {
     "data": {
      "text/html": [
       "<div>\n",
       "<style scoped>\n",
       "    .dataframe tbody tr th:only-of-type {\n",
       "        vertical-align: middle;\n",
       "    }\n",
       "\n",
       "    .dataframe tbody tr th {\n",
       "        vertical-align: top;\n",
       "    }\n",
       "\n",
       "    .dataframe thead th {\n",
       "        text-align: right;\n",
       "    }\n",
       "</style>\n",
       "<table border=\"1\" class=\"dataframe\">\n",
       "  <thead>\n",
       "    <tr style=\"text-align: right;\">\n",
       "      <th></th>\n",
       "      <th>g</th>\n",
       "      <th>l</th>\n",
       "      <th>qval</th>\n",
       "    </tr>\n",
       "  </thead>\n",
       "  <tbody>\n",
       "    <tr>\n",
       "      <td>3646</td>\n",
       "      <td>ENSMUSG00000040591</td>\n",
       "      <td>0.425735</td>\n",
       "      <td>0.94735</td>\n",
       "    </tr>\n",
       "    <tr>\n",
       "      <td>3647</td>\n",
       "      <td>ENSMUSG00000031540</td>\n",
       "      <td>0.425735</td>\n",
       "      <td>0.94735</td>\n",
       "    </tr>\n",
       "    <tr>\n",
       "      <td>3648</td>\n",
       "      <td>ENSMUSG00000042834</td>\n",
       "      <td>0.425735</td>\n",
       "      <td>0.94735</td>\n",
       "    </tr>\n",
       "    <tr>\n",
       "      <td>3649</td>\n",
       "      <td>ENSMUSG00000046613</td>\n",
       "      <td>0.425735</td>\n",
       "      <td>0.94735</td>\n",
       "    </tr>\n",
       "    <tr>\n",
       "      <td>3650</td>\n",
       "      <td>ENSMUSG00000074863</td>\n",
       "      <td>0.425735</td>\n",
       "      <td>0.94735</td>\n",
       "    </tr>\n",
       "    <tr>\n",
       "      <td>3651</td>\n",
       "      <td>ENSMUSG00000054708</td>\n",
       "      <td>0.425735</td>\n",
       "      <td>0.94735</td>\n",
       "    </tr>\n",
       "    <tr>\n",
       "      <td>3652</td>\n",
       "      <td>ENSMUSG00000004451</td>\n",
       "      <td>0.425735</td>\n",
       "      <td>0.94735</td>\n",
       "    </tr>\n",
       "    <tr>\n",
       "      <td>3653</td>\n",
       "      <td>ENSMUSG00000028397</td>\n",
       "      <td>0.425735</td>\n",
       "      <td>0.94735</td>\n",
       "    </tr>\n",
       "    <tr>\n",
       "      <td>3645</td>\n",
       "      <td>ENSMUSG00000017707</td>\n",
       "      <td>0.425735</td>\n",
       "      <td>0.94735</td>\n",
       "    </tr>\n",
       "    <tr>\n",
       "      <td>10946</td>\n",
       "      <td>ENSMUSG00000024873</td>\n",
       "      <td>8.768306</td>\n",
       "      <td>0.94735</td>\n",
       "    </tr>\n",
       "  </tbody>\n",
       "</table>\n",
       "</div>"
      ],
      "text/plain": [
       "                        g         l     qval\n",
       "3646   ENSMUSG00000040591  0.425735  0.94735\n",
       "3647   ENSMUSG00000031540  0.425735  0.94735\n",
       "3648   ENSMUSG00000042834  0.425735  0.94735\n",
       "3649   ENSMUSG00000046613  0.425735  0.94735\n",
       "3650   ENSMUSG00000074863  0.425735  0.94735\n",
       "3651   ENSMUSG00000054708  0.425735  0.94735\n",
       "3652   ENSMUSG00000004451  0.425735  0.94735\n",
       "3653   ENSMUSG00000028397  0.425735  0.94735\n",
       "3645   ENSMUSG00000017707  0.425735  0.94735\n",
       "10946  ENSMUSG00000024873  8.768306  0.94735"
      ]
     },
     "execution_count": 20,
     "metadata": {},
     "output_type": "execute_result"
    }
   ],
   "source": [
    "results.sort_values('qval').tail(10)[['g', 'l', 'qval']]"
   ]
  },
  {
   "cell_type": "code",
   "execution_count": 22,
   "metadata": {},
   "outputs": [
    {
     "data": {
      "image/png": "[encoded data removed]",
      "text/plain": [
       "<Figure size 720x288 with 8 Axes>"
      ]
     },
     "metadata": {
      "needs_background": "light"
     },
     "output_type": "display_data"
    }
   ],
   "source": [
    "figsize(10, 4)\n",
    "for i, g in enumerate(['ENSMUSG00000040591', 'ENSMUSG00000031540', 'ENSMUSG00000042834', 'ENSMUSG00000046613']):\n",
    "    plt.subplot(1, 4, i + 1)\n",
    "    plt.scatter(sample_info['x'], sample_info['y'], c=norm_expr[g]);\n",
    "    plt.title(g)\n",
    "    plt.axis('equal')\n",
    "\n",
    "\n",
    "    plt.colorbar(ticks=[]);"
   ]
  },
  {
   "cell_type": "code",
   "execution_count": 23,
   "metadata": {},
   "outputs": [
    {
     "data": {
      "image/png": "[encoded data removed]",
      "text/plain": [
       "<Figure size 360x288 with 1 Axes>"
      ]
     },
     "metadata": {
      "needs_background": "light"
     },
     "output_type": "display_data"
    }
   ],
   "source": [
    "figsize(5, 4)\n",
    "plt.yscale('log')\n",
    "\n",
    "plt.scatter(results['FSV'], results['qval'], c='black')\n",
    "\n",
    "plt.axhline(0.05, c='black', lw=1, ls='--');\n",
    "\n",
    "plt.gca().invert_yaxis();\n",
    "plt.xlabel('Fraction spatial variance')\n",
    "plt.ylabel('Adj. P-value');"
   ]
  },
  {
   "cell_type": "code",
   "execution_count": 25,
   "metadata": {},
   "outputs": [
    {
     "data": {
      "text/plain": [
       "1.010424    2\n",
       "Name: l, dtype: int64"
      ]
     },
     "execution_count": 25,
     "metadata": {},
     "output_type": "execute_result"
    }
   ],
   "source": [
    "sign_results = results.query('qval < 0.05')\n",
    "sign_results['l'].value_counts()\n"
   ]
  },
  {
   "cell_type": "code",
   "execution_count": 26,
   "metadata": {},
   "outputs": [
    {
     "name": "stdout",
     "output_type": "stream",
     "text": [
      "iter 0, ELBO: -1.34e+07\n",
      "iter 1, ELBO: -6.95e+06, delta_ELBO: 6.44e+06\n",
      "iter 2, ELBO: -6.95e+06, delta_ELBO: 2.77e+01\n",
      "iter 3, ELBO: -6.95e+06, delta_ELBO: 8.16e+00\n",
      "iter 4, ELBO: -6.95e+06, delta_ELBO: 6.74e-01\n",
      "iter 5, ELBO: -6.95e+06, delta_ELBO: 5.04e-02\n",
      "iter 6, ELBO: -6.95e+06, delta_ELBO: 3.96e-03\n",
      "Converged on iter 6\n"
     ]
    }
   ],
   "source": [
    "histology_results, patterns = SpatialDE.aeh.spatial_patterns(X, resid_expr, sign_results, C=3, l=1.8, verbosity=1)\n"
   ]
  },
  {
   "cell_type": "code",
   "execution_count": 27,
   "metadata": {},
   "outputs": [
    {
     "data": {
      "text/html": [
       "<div>\n",
       "<style scoped>\n",
       "    .dataframe tbody tr th:only-of-type {\n",
       "        vertical-align: middle;\n",
       "    }\n",
       "\n",
       "    .dataframe tbody tr th {\n",
       "        vertical-align: top;\n",
       "    }\n",
       "\n",
       "    .dataframe thead th {\n",
       "        text-align: right;\n",
       "    }\n",
       "</style>\n",
       "<table border=\"1\" class=\"dataframe\">\n",
       "  <thead>\n",
       "    <tr style=\"text-align: right;\">\n",
       "      <th></th>\n",
       "      <th>g</th>\n",
       "      <th>pattern</th>\n",
       "      <th>membership</th>\n",
       "    </tr>\n",
       "  </thead>\n",
       "  <tbody>\n",
       "    <tr>\n",
       "      <td>9469</td>\n",
       "      <td>ENSMUSG00000047648</td>\n",
       "      <td>0</td>\n",
       "      <td>1.0</td>\n",
       "    </tr>\n",
       "    <tr>\n",
       "      <td>9653</td>\n",
       "      <td>ENSMUSG00000035004</td>\n",
       "      <td>0</td>\n",
       "      <td>1.0</td>\n",
       "    </tr>\n",
       "  </tbody>\n",
       "</table>\n",
       "</div>"
      ],
      "text/plain": [
       "                       g  pattern  membership\n",
       "9469  ENSMUSG00000047648        0         1.0\n",
       "9653  ENSMUSG00000035004        0         1.0"
      ]
     },
     "execution_count": 27,
     "metadata": {},
     "output_type": "execute_result"
    }
   ],
   "source": [
    "histology_results.head()\n"
   ]
  },
  {
   "cell_type": "code",
   "execution_count": 28,
   "metadata": {},
   "outputs": [
    {
     "data": {
      "image/png": "[encoded data removed]",
      "text/plain": [
       "<Figure size 720x216 with 6 Axes>"
      ]
     },
     "metadata": {
      "needs_background": "light"
     },
     "output_type": "display_data"
    }
   ],
   "source": [
    "figsize(10, 3)\n",
    "for i in range(3):\n",
    "    plt.subplot(1, 3, i + 1)\n",
    "    plt.scatter(sample_info['x'], sample_info['y'], c=patterns[i]);\n",
    "    plt.axis('equal')\n",
    "    plt.title('Pattern {} - {} genes'.format(i, histology_results.query('pattern == @i').shape[0] ))\n",
    "    plt.colorbar(ticks=[]);"
   ]
  },
  {
   "cell_type": "code",
   "execution_count": 29,
   "metadata": {},
   "outputs": [
    {
     "name": "stdout",
     "output_type": "stream",
     "text": [
      "Pattern 0\n",
      "ENSMUSG00000047648, ENSMUSG00000035004\n",
      "\n"
     ]
    }
   ],
   "source": [
    "for i in histology_results.sort_values('pattern').pattern.unique():\n",
    "    print('Pattern {}'.format(i))\n",
    "    print(', '.join(histology_results.query('pattern == @i').sort_values('membership')['g'].tolist()))\n",
    "    print()"
   ]
  }
 ],
 "metadata": {
  "kernelspec": {
   "display_name": "Python 3",
   "language": "python",
   "name": "python3"
  },
  "language_info": {
   "codemirror_mode": {
    "name": "ipython",
    "version": 3
   },
   "file_extension": ".py",
   "mimetype": "text/x-python",
   "name": "python",
   "nbconvert_exporter": "python",
   "pygments_lexer": "ipython3",
   "version": "3.7.4"
  }
 },
 "nbformat": 4,
 "nbformat_minor": 2
}
