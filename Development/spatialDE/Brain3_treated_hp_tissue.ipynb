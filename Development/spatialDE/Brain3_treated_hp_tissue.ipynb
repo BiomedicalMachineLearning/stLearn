{
 "cells": [
  {
   "cell_type": "code",
   "execution_count": 1,
   "metadata": {},
   "outputs": [
    {
     "name": "stdout",
     "output_type": "stream",
     "text": [
      "Populating the interactive namespace from numpy and matplotlib\n"
     ]
    }
   ],
   "source": [
    "%pylab inline\n",
    "import pandas as pd\n",
    "\n",
    "rcParams['axes.spines.right'] = False\n",
    "rcParams['axes.spines.top'] = False\n",
    "\n",
    "import NaiveDE\n",
    "import SpatialDE"
   ]
  },
  {
   "cell_type": "code",
   "execution_count": 2,
   "metadata": {},
   "outputs": [
    {
     "name": "stdout",
     "output_type": "stream",
     "text": [
      "(62, 9091)\n"
     ]
    },
    {
     "data": {
      "text/html": [
       "<div>\n",
       "<style scoped>\n",
       "    .dataframe tbody tr th:only-of-type {\n",
       "        vertical-align: middle;\n",
       "    }\n",
       "\n",
       "    .dataframe tbody tr th {\n",
       "        vertical-align: top;\n",
       "    }\n",
       "\n",
       "    .dataframe thead th {\n",
       "        text-align: right;\n",
       "    }\n",
       "</style>\n",
       "<table border=\"1\" class=\"dataframe\">\n",
       "  <thead>\n",
       "    <tr style=\"text-align: right;\">\n",
       "      <th></th>\n",
       "      <th>ENSMUSG00000098104</th>\n",
       "      <th>ENSMUSG00000033845</th>\n",
       "      <th>ENSMUSG00000025903</th>\n",
       "      <th>ENSMUSG00000033813</th>\n",
       "      <th>ENSMUSG00000002459</th>\n",
       "    </tr>\n",
       "  </thead>\n",
       "  <tbody>\n",
       "    <tr>\n",
       "      <td>19.09x18.08</td>\n",
       "      <td>0.0</td>\n",
       "      <td>0.0</td>\n",
       "      <td>0.0</td>\n",
       "      <td>0.0</td>\n",
       "      <td>0.0</td>\n",
       "    </tr>\n",
       "    <tr>\n",
       "      <td>19.02x19.14</td>\n",
       "      <td>0.0</td>\n",
       "      <td>0.0</td>\n",
       "      <td>0.0</td>\n",
       "      <td>0.0</td>\n",
       "      <td>0.0</td>\n",
       "    </tr>\n",
       "    <tr>\n",
       "      <td>19.02x20.09</td>\n",
       "      <td>0.0</td>\n",
       "      <td>0.0</td>\n",
       "      <td>0.0</td>\n",
       "      <td>0.0</td>\n",
       "      <td>0.0</td>\n",
       "    </tr>\n",
       "    <tr>\n",
       "      <td>19.02x21.1</td>\n",
       "      <td>0.0</td>\n",
       "      <td>0.0</td>\n",
       "      <td>0.0</td>\n",
       "      <td>0.0</td>\n",
       "      <td>0.0</td>\n",
       "    </tr>\n",
       "    <tr>\n",
       "      <td>19.02x22.05</td>\n",
       "      <td>0.0</td>\n",
       "      <td>0.0</td>\n",
       "      <td>0.0</td>\n",
       "      <td>0.0</td>\n",
       "      <td>0.0</td>\n",
       "    </tr>\n",
       "  </tbody>\n",
       "</table>\n",
       "</div>"
      ],
      "text/plain": [
       "             ENSMUSG00000098104  ENSMUSG00000033845  ENSMUSG00000025903  \\\n",
       "19.09x18.08                 0.0                 0.0                 0.0   \n",
       "19.02x19.14                 0.0                 0.0                 0.0   \n",
       "19.02x20.09                 0.0                 0.0                 0.0   \n",
       "19.02x21.1                  0.0                 0.0                 0.0   \n",
       "19.02x22.05                 0.0                 0.0                 0.0   \n",
       "\n",
       "             ENSMUSG00000033813  ENSMUSG00000002459  \n",
       "19.09x18.08                 0.0                 0.0  \n",
       "19.02x19.14                 0.0                 0.0  \n",
       "19.02x20.09                 0.0                 0.0  \n",
       "19.02x21.1                  0.0                 0.0  \n",
       "19.02x22.05                 0.0                 0.0  "
      ]
     },
     "execution_count": 2,
     "metadata": {},
     "output_type": "execute_result"
    }
   ],
   "source": [
    "counts = pd.read_csv('Data/Brain3_treated_hp_tissue.tsv', sep='\\t',index_col=0)\n",
    "counts = counts.T[counts.sum(0) >= 3].T  # Filter practically unobserved genes\n",
    "print(counts.shape)\n",
    "counts.iloc[:5, :5]"
   ]
  },
  {
   "cell_type": "code",
   "execution_count": 3,
   "metadata": {},
   "outputs": [
    {
     "data": {
      "text/html": [
       "<div>\n",
       "<style scoped>\n",
       "    .dataframe tbody tr th:only-of-type {\n",
       "        vertical-align: middle;\n",
       "    }\n",
       "\n",
       "    .dataframe tbody tr th {\n",
       "        vertical-align: top;\n",
       "    }\n",
       "\n",
       "    .dataframe thead th {\n",
       "        text-align: right;\n",
       "    }\n",
       "</style>\n",
       "<table border=\"1\" class=\"dataframe\">\n",
       "  <thead>\n",
       "    <tr style=\"text-align: right;\">\n",
       "      <th></th>\n",
       "      <th>x</th>\n",
       "      <th>y</th>\n",
       "      <th>total_counts</th>\n",
       "    </tr>\n",
       "  </thead>\n",
       "  <tbody>\n",
       "    <tr>\n",
       "      <td>19.09x18.08</td>\n",
       "      <td>19.09</td>\n",
       "      <td>18.08</td>\n",
       "      <td>1762.0</td>\n",
       "    </tr>\n",
       "    <tr>\n",
       "      <td>19.02x19.14</td>\n",
       "      <td>19.02</td>\n",
       "      <td>19.14</td>\n",
       "      <td>3405.0</td>\n",
       "    </tr>\n",
       "    <tr>\n",
       "      <td>19.02x20.09</td>\n",
       "      <td>19.02</td>\n",
       "      <td>20.09</td>\n",
       "      <td>6049.0</td>\n",
       "    </tr>\n",
       "    <tr>\n",
       "      <td>19.02x21.1</td>\n",
       "      <td>19.02</td>\n",
       "      <td>21.10</td>\n",
       "      <td>3091.0</td>\n",
       "    </tr>\n",
       "    <tr>\n",
       "      <td>19.02x22.05</td>\n",
       "      <td>19.02</td>\n",
       "      <td>22.05</td>\n",
       "      <td>2853.0</td>\n",
       "    </tr>\n",
       "  </tbody>\n",
       "</table>\n",
       "</div>"
      ],
      "text/plain": [
       "                 x      y  total_counts\n",
       "19.09x18.08  19.09  18.08        1762.0\n",
       "19.02x19.14  19.02  19.14        3405.0\n",
       "19.02x20.09  19.02  20.09        6049.0\n",
       "19.02x21.1   19.02  21.10        3091.0\n",
       "19.02x22.05  19.02  22.05        2853.0"
      ]
     },
     "execution_count": 3,
     "metadata": {},
     "output_type": "execute_result"
    }
   ],
   "source": [
    "sample_info = pd.DataFrame(0, index = counts.index, columns = ['x','y','total_counts'])\n",
    "sample_info.loc[:,'x'] = [float(item.split('x')[0]) for item in sample_info.index]\n",
    "sample_info.loc[:,'y'] = [float(item.split('x')[1]) for item in sample_info.index]\n",
    "sample_info.loc[:,'total_counts'] = counts.sum(axis=1)\n",
    "sample_info.head(5)"
   ]
  },
  {
   "cell_type": "code",
   "execution_count": 4,
   "metadata": {},
   "outputs": [
    {
     "data": {
      "image/png": "[encoded data removed]",
      "text/plain": [
       "<Figure size 432x288 with 1 Axes>"
      ]
     },
     "metadata": {
      "needs_background": "light"
     },
     "output_type": "display_data"
    }
   ],
   "source": [
    "figsize(6, 4)\n",
    "plt.scatter(sample_info['x'], sample_info['y'], c='k');\n",
    "plt.axis('equal');"
   ]
  },
  {
   "cell_type": "code",
   "execution_count": 5,
   "metadata": {},
   "outputs": [],
   "source": [
    "norm_expr = NaiveDE.stabilize(counts.T).T\n",
    "resid_expr = NaiveDE.regress_out(sample_info, norm_expr.T, 'np.log(total_counts)').T"
   ]
  },
  {
   "cell_type": "code",
   "execution_count": 6,
   "metadata": {},
   "outputs": [
    {
     "data": {
      "application/vnd.jupyter.widget-view+json": {
       "model_id": "f7da3d155a37499dada1a147c2c45338",
       "version_major": 2,
       "version_minor": 0
      },
      "text/plain": [
       "HBox(children=(IntProgress(value=0, description='Models: ', max=10, style=ProgressStyle(description_width='ini…"
      ]
     },
     "metadata": {},
     "output_type": "display_data"
    },
    {
     "data": {
      "application/vnd.jupyter.widget-view+json": {
       "model_id": "",
       "version_major": 2,
       "version_minor": 0
      },
      "text/plain": [
       "HBox(children=(IntProgress(value=0, max=9091), HTML(value='')))"
      ]
     },
     "metadata": {},
     "output_type": "display_data"
    },
    {
     "data": {
      "application/vnd.jupyter.widget-view+json": {
       "model_id": "",
       "version_major": 2,
       "version_minor": 0
      },
      "text/plain": [
       "HBox(children=(IntProgress(value=0, max=9091), HTML(value='')))"
      ]
     },
     "metadata": {},
     "output_type": "display_data"
    },
    {
     "data": {
      "application/vnd.jupyter.widget-view+json": {
       "model_id": "",
       "version_major": 2,
       "version_minor": 0
      },
      "text/plain": [
       "HBox(children=(IntProgress(value=0, max=9091), HTML(value='')))"
      ]
     },
     "metadata": {},
     "output_type": "display_data"
    },
    {
     "data": {
      "application/vnd.jupyter.widget-view+json": {
       "model_id": "",
       "version_major": 2,
       "version_minor": 0
      },
      "text/plain": [
       "HBox(children=(IntProgress(value=0, max=9091), HTML(value='')))"
      ]
     },
     "metadata": {},
     "output_type": "display_data"
    },
    {
     "data": {
      "application/vnd.jupyter.widget-view+json": {
       "model_id": "",
       "version_major": 2,
       "version_minor": 0
      },
      "text/plain": [
       "HBox(children=(IntProgress(value=0, max=9091), HTML(value='')))"
      ]
     },
     "metadata": {},
     "output_type": "display_data"
    },
    {
     "data": {
      "application/vnd.jupyter.widget-view+json": {
       "model_id": "",
       "version_major": 2,
       "version_minor": 0
      },
      "text/plain": [
       "HBox(children=(IntProgress(value=0, max=9091), HTML(value='')))"
      ]
     },
     "metadata": {},
     "output_type": "display_data"
    },
    {
     "data": {
      "application/vnd.jupyter.widget-view+json": {
       "model_id": "",
       "version_major": 2,
       "version_minor": 0
      },
      "text/plain": [
       "HBox(children=(IntProgress(value=0, max=9091), HTML(value='')))"
      ]
     },
     "metadata": {},
     "output_type": "display_data"
    },
    {
     "data": {
      "application/vnd.jupyter.widget-view+json": {
       "model_id": "",
       "version_major": 2,
       "version_minor": 0
      },
      "text/plain": [
       "HBox(children=(IntProgress(value=0, max=9091), HTML(value='')))"
      ]
     },
     "metadata": {},
     "output_type": "display_data"
    },
    {
     "data": {
      "application/vnd.jupyter.widget-view+json": {
       "model_id": "",
       "version_major": 2,
       "version_minor": 0
      },
      "text/plain": [
       "HBox(children=(IntProgress(value=0, max=9091), HTML(value='')))"
      ]
     },
     "metadata": {},
     "output_type": "display_data"
    },
    {
     "data": {
      "application/vnd.jupyter.widget-view+json": {
       "model_id": "",
       "version_major": 2,
       "version_minor": 0
      },
      "text/plain": [
       "HBox(children=(IntProgress(value=0, max=9091), HTML(value='')))"
      ]
     },
     "metadata": {},
     "output_type": "display_data"
    },
    {
     "name": "stdout",
     "output_type": "stream",
     "text": [
      "\n"
     ]
    }
   ],
   "source": [
    "sample_resid_expr = resid_expr.sample(n=len(counts.columns), axis=1, random_state=1)\n",
    "\n",
    "X = sample_info[['x', 'y']]\n",
    "sample_resid_expr.head()\n",
    "results = SpatialDE.run(X, sample_resid_expr)"
   ]
  },
  {
   "cell_type": "code",
   "execution_count": 7,
   "metadata": {},
   "outputs": [
    {
     "data": {
      "text/html": [
       "<div>\n",
       "<style scoped>\n",
       "    .dataframe tbody tr th:only-of-type {\n",
       "        vertical-align: middle;\n",
       "    }\n",
       "\n",
       "    .dataframe tbody tr th {\n",
       "        vertical-align: top;\n",
       "    }\n",
       "\n",
       "    .dataframe thead th {\n",
       "        text-align: right;\n",
       "    }\n",
       "</style>\n",
       "<table border=\"1\" class=\"dataframe\">\n",
       "  <thead>\n",
       "    <tr style=\"text-align: right;\">\n",
       "      <th></th>\n",
       "      <th>0</th>\n",
       "      <th>1</th>\n",
       "      <th>2</th>\n",
       "      <th>3</th>\n",
       "      <th>4</th>\n",
       "    </tr>\n",
       "  </thead>\n",
       "  <tbody>\n",
       "    <tr>\n",
       "      <td>FSV</td>\n",
       "      <td>2.05157e-09</td>\n",
       "      <td>2.05157e-09</td>\n",
       "      <td>2.05157e-09</td>\n",
       "      <td>2.05157e-09</td>\n",
       "      <td>2.05157e-09</td>\n",
       "    </tr>\n",
       "    <tr>\n",
       "      <td>M</td>\n",
       "      <td>4</td>\n",
       "      <td>4</td>\n",
       "      <td>4</td>\n",
       "      <td>4</td>\n",
       "      <td>4</td>\n",
       "    </tr>\n",
       "    <tr>\n",
       "      <td>g</td>\n",
       "      <td>ENSMUSG00000064372</td>\n",
       "      <td>ENSMUSG00000031983</td>\n",
       "      <td>ENSMUSG00000030990</td>\n",
       "      <td>ENSMUSG00000082884</td>\n",
       "      <td>ENSMUSG00000021867</td>\n",
       "    </tr>\n",
       "    <tr>\n",
       "      <td>l</td>\n",
       "      <td>0.440114</td>\n",
       "      <td>0.440114</td>\n",
       "      <td>0.440114</td>\n",
       "      <td>0.440114</td>\n",
       "      <td>0.440114</td>\n",
       "    </tr>\n",
       "    <tr>\n",
       "      <td>max_delta</td>\n",
       "      <td>4.85165e+08</td>\n",
       "      <td>4.85165e+08</td>\n",
       "      <td>4.85165e+08</td>\n",
       "      <td>4.85165e+08</td>\n",
       "      <td>4.85165e+08</td>\n",
       "    </tr>\n",
       "    <tr>\n",
       "      <td>max_ll</td>\n",
       "      <td>30.6662</td>\n",
       "      <td>57.2233</td>\n",
       "      <td>76.7262</td>\n",
       "      <td>3.71194</td>\n",
       "      <td>97.6605</td>\n",
       "    </tr>\n",
       "    <tr>\n",
       "      <td>max_mu_hat</td>\n",
       "      <td>1.50383</td>\n",
       "      <td>1.73644</td>\n",
       "      <td>1.49776</td>\n",
       "      <td>0.586625</td>\n",
       "      <td>1.51968</td>\n",
       "    </tr>\n",
       "    <tr>\n",
       "      <td>max_s2_t_hat</td>\n",
       "      <td>4.70617e-09</td>\n",
       "      <td>6.23392e-09</td>\n",
       "      <td>4.63392e-09</td>\n",
       "      <td>8.16364e-10</td>\n",
       "      <td>4.76525e-09</td>\n",
       "    </tr>\n",
       "    <tr>\n",
       "      <td>model</td>\n",
       "      <td>SE</td>\n",
       "      <td>SE</td>\n",
       "      <td>SE</td>\n",
       "      <td>SE</td>\n",
       "      <td>SE</td>\n",
       "    </tr>\n",
       "    <tr>\n",
       "      <td>n</td>\n",
       "      <td>62</td>\n",
       "      <td>62</td>\n",
       "      <td>62</td>\n",
       "      <td>62</td>\n",
       "      <td>62</td>\n",
       "    </tr>\n",
       "    <tr>\n",
       "      <td>s2_FSV</td>\n",
       "      <td>1.34977</td>\n",
       "      <td>2.14416</td>\n",
       "      <td>10.8343</td>\n",
       "      <td>2.91422</td>\n",
       "      <td>2.65228</td>\n",
       "    </tr>\n",
       "    <tr>\n",
       "      <td>s2_logdelta</td>\n",
       "      <td>2.32201e+17</td>\n",
       "      <td>3.68861e+17</td>\n",
       "      <td>1.86382e+18</td>\n",
       "      <td>5.01333e+17</td>\n",
       "      <td>4.56272e+17</td>\n",
       "    </tr>\n",
       "    <tr>\n",
       "      <td>time</td>\n",
       "      <td>0.000997066</td>\n",
       "      <td>0.000996351</td>\n",
       "      <td>0.000997543</td>\n",
       "      <td>0.00201154</td>\n",
       "      <td>0.00197816</td>\n",
       "    </tr>\n",
       "    <tr>\n",
       "      <td>BIC</td>\n",
       "      <td>-44.8238</td>\n",
       "      <td>-97.9381</td>\n",
       "      <td>-136.944</td>\n",
       "      <td>9.08467</td>\n",
       "      <td>-178.812</td>\n",
       "    </tr>\n",
       "    <tr>\n",
       "      <td>max_ll_null</td>\n",
       "      <td>30.6621</td>\n",
       "      <td>57.2192</td>\n",
       "      <td>76.7221</td>\n",
       "      <td>3.70786</td>\n",
       "      <td>97.6564</td>\n",
       "    </tr>\n",
       "    <tr>\n",
       "      <td>LLR</td>\n",
       "      <td>0.00407615</td>\n",
       "      <td>0.00407615</td>\n",
       "      <td>0.00407615</td>\n",
       "      <td>0.00407615</td>\n",
       "      <td>0.00407615</td>\n",
       "    </tr>\n",
       "    <tr>\n",
       "      <td>pval</td>\n",
       "      <td>0.949094</td>\n",
       "      <td>0.949094</td>\n",
       "      <td>0.949094</td>\n",
       "      <td>0.949094</td>\n",
       "      <td>0.949094</td>\n",
       "    </tr>\n",
       "    <tr>\n",
       "      <td>qval</td>\n",
       "      <td>0.949094</td>\n",
       "      <td>0.949094</td>\n",
       "      <td>0.949094</td>\n",
       "      <td>0.949094</td>\n",
       "      <td>0.949094</td>\n",
       "    </tr>\n",
       "  </tbody>\n",
       "</table>\n",
       "</div>"
      ],
      "text/plain": [
       "                               0                   1                   2  \\\n",
       "FSV                  2.05157e-09         2.05157e-09         2.05157e-09   \n",
       "M                              4                   4                   4   \n",
       "g             ENSMUSG00000064372  ENSMUSG00000031983  ENSMUSG00000030990   \n",
       "l                       0.440114            0.440114            0.440114   \n",
       "max_delta            4.85165e+08         4.85165e+08         4.85165e+08   \n",
       "max_ll                   30.6662             57.2233             76.7262   \n",
       "max_mu_hat               1.50383             1.73644             1.49776   \n",
       "max_s2_t_hat         4.70617e-09         6.23392e-09         4.63392e-09   \n",
       "model                         SE                  SE                  SE   \n",
       "n                             62                  62                  62   \n",
       "s2_FSV                   1.34977             2.14416             10.8343   \n",
       "s2_logdelta          2.32201e+17         3.68861e+17         1.86382e+18   \n",
       "time                 0.000997066         0.000996351         0.000997543   \n",
       "BIC                     -44.8238            -97.9381            -136.944   \n",
       "max_ll_null              30.6621             57.2192             76.7221   \n",
       "LLR                   0.00407615          0.00407615          0.00407615   \n",
       "pval                    0.949094            0.949094            0.949094   \n",
       "qval                    0.949094            0.949094            0.949094   \n",
       "\n",
       "                               3                   4  \n",
       "FSV                  2.05157e-09         2.05157e-09  \n",
       "M                              4                   4  \n",
       "g             ENSMUSG00000082884  ENSMUSG00000021867  \n",
       "l                       0.440114            0.440114  \n",
       "max_delta            4.85165e+08         4.85165e+08  \n",
       "max_ll                   3.71194             97.6605  \n",
       "max_mu_hat              0.586625             1.51968  \n",
       "max_s2_t_hat         8.16364e-10         4.76525e-09  \n",
       "model                         SE                  SE  \n",
       "n                             62                  62  \n",
       "s2_FSV                   2.91422             2.65228  \n",
       "s2_logdelta          5.01333e+17         4.56272e+17  \n",
       "time                  0.00201154          0.00197816  \n",
       "BIC                      9.08467            -178.812  \n",
       "max_ll_null              3.70786             97.6564  \n",
       "LLR                   0.00407615          0.00407615  \n",
       "pval                    0.949094            0.949094  \n",
       "qval                    0.949094            0.949094  "
      ]
     },
     "execution_count": 7,
     "metadata": {},
     "output_type": "execute_result"
    }
   ],
   "source": [
    "results.head().T"
   ]
  },
  {
   "cell_type": "code",
   "execution_count": 8,
   "metadata": {},
   "outputs": [
    {
     "data": {
      "text/html": [
       "<div>\n",
       "<style scoped>\n",
       "    .dataframe tbody tr th:only-of-type {\n",
       "        vertical-align: middle;\n",
       "    }\n",
       "\n",
       "    .dataframe tbody tr th {\n",
       "        vertical-align: top;\n",
       "    }\n",
       "\n",
       "    .dataframe thead th {\n",
       "        text-align: right;\n",
       "    }\n",
       "</style>\n",
       "<table border=\"1\" class=\"dataframe\">\n",
       "  <thead>\n",
       "    <tr style=\"text-align: right;\">\n",
       "      <th></th>\n",
       "      <th>g</th>\n",
       "      <th>l</th>\n",
       "      <th>pval</th>\n",
       "      <th>qval</th>\n",
       "    </tr>\n",
       "  </thead>\n",
       "  <tbody>\n",
       "    <tr>\n",
       "      <td>8878</td>\n",
       "      <td>ENSMUSG00000098178</td>\n",
       "      <td>2.524773</td>\n",
       "      <td>0.000008</td>\n",
       "      <td>0.074258</td>\n",
       "    </tr>\n",
       "    <tr>\n",
       "      <td>7960</td>\n",
       "      <td>ENSMUSG00000032269</td>\n",
       "      <td>1.054129</td>\n",
       "      <td>0.000045</td>\n",
       "      <td>0.206506</td>\n",
       "    </tr>\n",
       "    <tr>\n",
       "      <td>6055</td>\n",
       "      <td>ENSMUSG00000053510</td>\n",
       "      <td>0.440114</td>\n",
       "      <td>0.949094</td>\n",
       "      <td>0.949094</td>\n",
       "    </tr>\n",
       "    <tr>\n",
       "      <td>6056</td>\n",
       "      <td>ENSMUSG00000020895</td>\n",
       "      <td>0.440114</td>\n",
       "      <td>0.949094</td>\n",
       "      <td>0.949094</td>\n",
       "    </tr>\n",
       "    <tr>\n",
       "      <td>6057</td>\n",
       "      <td>ENSMUSG00000004098</td>\n",
       "      <td>0.440114</td>\n",
       "      <td>0.949094</td>\n",
       "      <td>0.949094</td>\n",
       "    </tr>\n",
       "  </tbody>\n",
       "</table>\n",
       "</div>"
      ],
      "text/plain": [
       "                       g         l      pval      qval\n",
       "8878  ENSMUSG00000098178  2.524773  0.000008  0.074258\n",
       "7960  ENSMUSG00000032269  1.054129  0.000045  0.206506\n",
       "6055  ENSMUSG00000053510  0.440114  0.949094  0.949094\n",
       "6056  ENSMUSG00000020895  0.440114  0.949094  0.949094\n",
       "6057  ENSMUSG00000004098  0.440114  0.949094  0.949094"
      ]
     },
     "execution_count": 8,
     "metadata": {},
     "output_type": "execute_result"
    }
   ],
   "source": [
    "results.sort_values('qval').head(5)[['g', 'l', 'pval','qval']]"
   ]
  },
  {
   "cell_type": "code",
   "execution_count": 9,
   "metadata": {},
   "outputs": [
    {
     "data": {
      "image/png": "[encoded data removed]",
      "text/plain": [
       "<Figure size 720x216 with 6 Axes>"
      ]
     },
     "metadata": {
      "needs_background": "light"
     },
     "output_type": "display_data"
    }
   ],
   "source": [
    "figsize(10, 3)\n",
    "for i, g in enumerate(['ENSMUSG00000098178', 'ENSMUSG00000032269', 'ENSMUSG00000053510']):\n",
    "    plt.subplot(1, 3, i + 1)\n",
    "    plt.scatter(sample_info['x'], sample_info['y'], c=norm_expr[g]);\n",
    "    plt.title(g)\n",
    "    plt.axis('equal')\n",
    "\n",
    "\n",
    "    plt.colorbar(ticks=[]);"
   ]
  },
  {
   "cell_type": "code",
   "execution_count": 10,
   "metadata": {},
   "outputs": [
    {
     "data": {
      "text/html": [
       "<div>\n",
       "<style scoped>\n",
       "    .dataframe tbody tr th:only-of-type {\n",
       "        vertical-align: middle;\n",
       "    }\n",
       "\n",
       "    .dataframe tbody tr th {\n",
       "        vertical-align: top;\n",
       "    }\n",
       "\n",
       "    .dataframe thead th {\n",
       "        text-align: right;\n",
       "    }\n",
       "</style>\n",
       "<table border=\"1\" class=\"dataframe\">\n",
       "  <thead>\n",
       "    <tr style=\"text-align: right;\">\n",
       "      <th></th>\n",
       "      <th>g</th>\n",
       "      <th>l</th>\n",
       "      <th>qval</th>\n",
       "    </tr>\n",
       "  </thead>\n",
       "  <tbody>\n",
       "    <tr>\n",
       "      <td>3035</td>\n",
       "      <td>ENSMUSG00000057335</td>\n",
       "      <td>0.440114</td>\n",
       "      <td>0.949094</td>\n",
       "    </tr>\n",
       "    <tr>\n",
       "      <td>3026</td>\n",
       "      <td>ENSMUSG00000000416</td>\n",
       "      <td>0.440114</td>\n",
       "      <td>0.949094</td>\n",
       "    </tr>\n",
       "    <tr>\n",
       "      <td>3028</td>\n",
       "      <td>ENSMUSG00000029419</td>\n",
       "      <td>0.440114</td>\n",
       "      <td>0.949094</td>\n",
       "    </tr>\n",
       "    <tr>\n",
       "      <td>3029</td>\n",
       "      <td>ENSMUSG00000017428</td>\n",
       "      <td>0.440114</td>\n",
       "      <td>0.949094</td>\n",
       "    </tr>\n",
       "    <tr>\n",
       "      <td>3030</td>\n",
       "      <td>ENSMUSG00000038544</td>\n",
       "      <td>0.440114</td>\n",
       "      <td>0.949094</td>\n",
       "    </tr>\n",
       "    <tr>\n",
       "      <td>3031</td>\n",
       "      <td>ENSMUSG00000028556</td>\n",
       "      <td>0.440114</td>\n",
       "      <td>0.949094</td>\n",
       "    </tr>\n",
       "    <tr>\n",
       "      <td>3032</td>\n",
       "      <td>ENSMUSG00000094955</td>\n",
       "      <td>0.440114</td>\n",
       "      <td>0.949094</td>\n",
       "    </tr>\n",
       "    <tr>\n",
       "      <td>3033</td>\n",
       "      <td>ENSMUSG00000059058</td>\n",
       "      <td>0.440114</td>\n",
       "      <td>0.949094</td>\n",
       "    </tr>\n",
       "    <tr>\n",
       "      <td>3027</td>\n",
       "      <td>ENSMUSG00000028410</td>\n",
       "      <td>0.440114</td>\n",
       "      <td>0.949094</td>\n",
       "    </tr>\n",
       "    <tr>\n",
       "      <td>9090</td>\n",
       "      <td>ENSMUSG00000039542</td>\n",
       "      <td>9.358701</td>\n",
       "      <td>0.949094</td>\n",
       "    </tr>\n",
       "  </tbody>\n",
       "</table>\n",
       "</div>"
      ],
      "text/plain": [
       "                       g         l      qval\n",
       "3035  ENSMUSG00000057335  0.440114  0.949094\n",
       "3026  ENSMUSG00000000416  0.440114  0.949094\n",
       "3028  ENSMUSG00000029419  0.440114  0.949094\n",
       "3029  ENSMUSG00000017428  0.440114  0.949094\n",
       "3030  ENSMUSG00000038544  0.440114  0.949094\n",
       "3031  ENSMUSG00000028556  0.440114  0.949094\n",
       "3032  ENSMUSG00000094955  0.440114  0.949094\n",
       "3033  ENSMUSG00000059058  0.440114  0.949094\n",
       "3027  ENSMUSG00000028410  0.440114  0.949094\n",
       "9090  ENSMUSG00000039542  9.358701  0.949094"
      ]
     },
     "execution_count": 10,
     "metadata": {},
     "output_type": "execute_result"
    }
   ],
   "source": [
    "results.sort_values('qval').tail(10)[['g', 'l', 'qval']]"
   ]
  },
  {
   "cell_type": "code",
   "execution_count": 11,
   "metadata": {},
   "outputs": [
    {
     "data": {
      "image/png": "[encoded data removed]",
      "text/plain": [
       "<Figure size 720x216 with 6 Axes>"
      ]
     },
     "metadata": {
      "needs_background": "light"
     },
     "output_type": "display_data"
    }
   ],
   "source": [
    "figsize(10, 3)\n",
    "for i, g in enumerate(['ENSMUSG00000057335', 'ENSMUSG00000000416', 'ENSMUSG00000029419']):\n",
    "    plt.subplot(1, 3, i + 1)\n",
    "    plt.scatter(sample_info['x'], sample_info['y'], c=norm_expr[g]);\n",
    "    plt.title(g)\n",
    "    plt.axis('equal')\n",
    "\n",
    "\n",
    "    plt.colorbar(ticks=[]);"
   ]
  },
  {
   "cell_type": "code",
   "execution_count": 12,
   "metadata": {},
   "outputs": [
    {
     "data": {
      "image/png": "[encoded data removed]",
      "text/plain": [
       "<Figure size 360x288 with 1 Axes>"
      ]
     },
     "metadata": {
      "needs_background": "light"
     },
     "output_type": "display_data"
    }
   ],
   "source": [
    "figsize(5, 4)\n",
    "plt.yscale('log')\n",
    "\n",
    "plt.scatter(results['FSV'], results['qval'], c='black')\n",
    "\n",
    "plt.axhline(0.05, c='black', lw=1, ls='--');\n",
    "\n",
    "plt.gca().invert_yaxis();\n",
    "plt.xlabel('Fraction spatial variance')\n",
    "plt.ylabel('Adj. P-value');"
   ]
  }
 ],
 "metadata": {
  "kernelspec": {
   "display_name": "Python 3",
   "language": "python",
   "name": "python3"
  },
  "language_info": {
   "codemirror_mode": {
    "name": "ipython",
    "version": 3
   },
   "file_extension": ".py",
   "mimetype": "text/x-python",
   "name": "python",
   "nbconvert_exporter": "python",
   "pygments_lexer": "ipython3",
   "version": "3.7.4"
  }
 },
 "nbformat": 4,
 "nbformat_minor": 2
}
