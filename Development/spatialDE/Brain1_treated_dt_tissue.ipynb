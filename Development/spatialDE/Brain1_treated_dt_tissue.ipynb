{
 "cells": [
  {
   "cell_type": "code",
   "execution_count": 1,
   "metadata": {},
   "outputs": [
    {
     "name": "stdout",
     "output_type": "stream",
     "text": [
      "Populating the interactive namespace from numpy and matplotlib\n"
     ]
    }
   ],
   "source": [
    "%pylab inline\n",
    "import pandas as pd\n",
    "\n",
    "rcParams['axes.spines.right'] = False\n",
    "rcParams['axes.spines.top'] = False\n",
    "\n",
    "import NaiveDE\n",
    "import SpatialDE"
   ]
  },
  {
   "cell_type": "code",
   "execution_count": 5,
   "metadata": {},
   "outputs": [
    {
     "name": "stdout",
     "output_type": "stream",
     "text": [
      "(16, 7825)\n"
     ]
    },
    {
     "data": {
      "text/html": [
       "<div>\n",
       "<style scoped>\n",
       "    .dataframe tbody tr th:only-of-type {\n",
       "        vertical-align: middle;\n",
       "    }\n",
       "\n",
       "    .dataframe tbody tr th {\n",
       "        vertical-align: top;\n",
       "    }\n",
       "\n",
       "    .dataframe thead th {\n",
       "        text-align: right;\n",
       "    }\n",
       "</style>\n",
       "<table border=\"1\" class=\"dataframe\">\n",
       "  <thead>\n",
       "    <tr style=\"text-align: right;\">\n",
       "      <th></th>\n",
       "      <th>ENSMUSG00000102331</th>\n",
       "      <th>ENSMUSG00000033845</th>\n",
       "      <th>ENSMUSG00000033813</th>\n",
       "      <th>ENSMUSG00000033793</th>\n",
       "      <th>ENSMUSG00000025907</th>\n",
       "    </tr>\n",
       "  </thead>\n",
       "  <tbody>\n",
       "    <tr>\n",
       "      <td>20.01x17.08</td>\n",
       "      <td>0.0</td>\n",
       "      <td>0.0</td>\n",
       "      <td>0.0</td>\n",
       "      <td>0.0</td>\n",
       "      <td>1.0</td>\n",
       "    </tr>\n",
       "    <tr>\n",
       "      <td>20.01x18.1</td>\n",
       "      <td>1.0</td>\n",
       "      <td>0.0</td>\n",
       "      <td>0.0</td>\n",
       "      <td>2.0</td>\n",
       "      <td>5.0</td>\n",
       "    </tr>\n",
       "    <tr>\n",
       "      <td>20.98x16.03</td>\n",
       "      <td>0.0</td>\n",
       "      <td>0.0</td>\n",
       "      <td>0.0</td>\n",
       "      <td>0.0</td>\n",
       "      <td>1.0</td>\n",
       "    </tr>\n",
       "    <tr>\n",
       "      <td>20.99x17.02</td>\n",
       "      <td>0.0</td>\n",
       "      <td>0.0</td>\n",
       "      <td>0.0</td>\n",
       "      <td>0.0</td>\n",
       "      <td>0.0</td>\n",
       "    </tr>\n",
       "    <tr>\n",
       "      <td>21.0x18.1</td>\n",
       "      <td>1.0</td>\n",
       "      <td>0.0</td>\n",
       "      <td>0.0</td>\n",
       "      <td>0.0</td>\n",
       "      <td>3.0</td>\n",
       "    </tr>\n",
       "  </tbody>\n",
       "</table>\n",
       "</div>"
      ],
      "text/plain": [
       "             ENSMUSG00000102331  ENSMUSG00000033845  ENSMUSG00000033813  \\\n",
       "20.01x17.08                 0.0                 0.0                 0.0   \n",
       "20.01x18.1                  1.0                 0.0                 0.0   \n",
       "20.98x16.03                 0.0                 0.0                 0.0   \n",
       "20.99x17.02                 0.0                 0.0                 0.0   \n",
       "21.0x18.1                   1.0                 0.0                 0.0   \n",
       "\n",
       "             ENSMUSG00000033793  ENSMUSG00000025907  \n",
       "20.01x17.08                 0.0                 1.0  \n",
       "20.01x18.1                  2.0                 5.0  \n",
       "20.98x16.03                 0.0                 1.0  \n",
       "20.99x17.02                 0.0                 0.0  \n",
       "21.0x18.1                   0.0                 3.0  "
      ]
     },
     "execution_count": 5,
     "metadata": {},
     "output_type": "execute_result"
    }
   ],
   "source": [
    "counts = pd.read_csv('Data/Brain1_treated_dt_tissue.tsv', sep='\\t',index_col=0)\n",
    "counts = counts.T[counts.sum(0) >= 3].T  # Filter practically unobserved genes\n",
    "print(counts.shape)\n",
    "counts.iloc[:5, :5]"
   ]
  },
  {
   "cell_type": "code",
   "execution_count": 33,
   "metadata": {},
   "outputs": [
    {
     "data": {
      "text/html": [
       "<div>\n",
       "<style scoped>\n",
       "    .dataframe tbody tr th:only-of-type {\n",
       "        vertical-align: middle;\n",
       "    }\n",
       "\n",
       "    .dataframe tbody tr th {\n",
       "        vertical-align: top;\n",
       "    }\n",
       "\n",
       "    .dataframe thead th {\n",
       "        text-align: right;\n",
       "    }\n",
       "</style>\n",
       "<table border=\"1\" class=\"dataframe\">\n",
       "  <thead>\n",
       "    <tr style=\"text-align: right;\">\n",
       "      <th></th>\n",
       "      <th>x</th>\n",
       "      <th>y</th>\n",
       "      <th>total_counts</th>\n",
       "    </tr>\n",
       "  </thead>\n",
       "  <tbody>\n",
       "    <tr>\n",
       "      <td>20.01x17.08</td>\n",
       "      <td>20.01</td>\n",
       "      <td>17.08</td>\n",
       "      <td>7003.0</td>\n",
       "    </tr>\n",
       "    <tr>\n",
       "      <td>20.01x18.1</td>\n",
       "      <td>20.01</td>\n",
       "      <td>18.10</td>\n",
       "      <td>10536.0</td>\n",
       "    </tr>\n",
       "    <tr>\n",
       "      <td>20.98x16.03</td>\n",
       "      <td>20.98</td>\n",
       "      <td>16.03</td>\n",
       "      <td>3635.0</td>\n",
       "    </tr>\n",
       "    <tr>\n",
       "      <td>20.99x17.02</td>\n",
       "      <td>20.99</td>\n",
       "      <td>17.02</td>\n",
       "      <td>5091.0</td>\n",
       "    </tr>\n",
       "    <tr>\n",
       "      <td>21.0x18.1</td>\n",
       "      <td>21.00</td>\n",
       "      <td>18.10</td>\n",
       "      <td>7549.0</td>\n",
       "    </tr>\n",
       "  </tbody>\n",
       "</table>\n",
       "</div>"
      ],
      "text/plain": [
       "                 x      y  total_counts\n",
       "20.01x17.08  20.01  17.08        7003.0\n",
       "20.01x18.1   20.01  18.10       10536.0\n",
       "20.98x16.03  20.98  16.03        3635.0\n",
       "20.99x17.02  20.99  17.02        5091.0\n",
       "21.0x18.1    21.00  18.10        7549.0"
      ]
     },
     "execution_count": 33,
     "metadata": {},
     "output_type": "execute_result"
    }
   ],
   "source": [
    "sample_info = pd.DataFrame(0, index = counts.index, columns = ['x','y','total_counts'])\n",
    "sample_info.loc[:,'x'] = [float(item.split('x')[0]) for item in sample_info.index]\n",
    "sample_info.loc[:,'y'] = [float(item.split('x')[1]) for item in sample_info.index]\n",
    "sample_info.loc[:,'total_counts'] = counts.sum(axis=1)\n",
    "sample_info.head(5)"
   ]
  },
  {
   "cell_type": "code",
   "execution_count": 34,
   "metadata": {},
   "outputs": [
    {
     "data": {
      "image/png": "[encoded data removed]",
      "text/plain": [
       "<Figure size 432x288 with 1 Axes>"
      ]
     },
     "metadata": {
      "needs_background": "light"
     },
     "output_type": "display_data"
    }
   ],
   "source": [
    "figsize(6, 4)\n",
    "plt.scatter(sample_info['x'], sample_info['y'], c='k');\n",
    "plt.axis('equal');"
   ]
  },
  {
   "cell_type": "code",
   "execution_count": 35,
   "metadata": {},
   "outputs": [],
   "source": [
    "norm_expr = NaiveDE.stabilize(counts.T).T\n",
    "resid_expr = NaiveDE.regress_out(sample_info, norm_expr.T, 'np.log(total_counts)').T"
   ]
  },
  {
   "cell_type": "code",
   "execution_count": 40,
   "metadata": {},
   "outputs": [
    {
     "data": {
      "application/vnd.jupyter.widget-view+json": {
       "model_id": "09f1ed30fb0f4c5e900b30ae49e11e22",
       "version_major": 2,
       "version_minor": 0
      },
      "text/plain": [
       "HBox(children=(IntProgress(value=0, description='Models: ', max=10, style=ProgressStyle(description_width='ini…"
      ]
     },
     "metadata": {},
     "output_type": "display_data"
    },
    {
     "data": {
      "application/vnd.jupyter.widget-view+json": {
       "model_id": "",
       "version_major": 2,
       "version_minor": 0
      },
      "text/plain": [
       "HBox(children=(IntProgress(value=0, max=7825), HTML(value='')))"
      ]
     },
     "metadata": {},
     "output_type": "display_data"
    },
    {
     "data": {
      "application/vnd.jupyter.widget-view+json": {
       "model_id": "",
       "version_major": 2,
       "version_minor": 0
      },
      "text/plain": [
       "HBox(children=(IntProgress(value=0, max=7825), HTML(value='')))"
      ]
     },
     "metadata": {},
     "output_type": "display_data"
    },
    {
     "data": {
      "application/vnd.jupyter.widget-view+json": {
       "model_id": "",
       "version_major": 2,
       "version_minor": 0
      },
      "text/plain": [
       "HBox(children=(IntProgress(value=0, max=7825), HTML(value='')))"
      ]
     },
     "metadata": {},
     "output_type": "display_data"
    },
    {
     "data": {
      "application/vnd.jupyter.widget-view+json": {
       "model_id": "",
       "version_major": 2,
       "version_minor": 0
      },
      "text/plain": [
       "HBox(children=(IntProgress(value=0, max=7825), HTML(value='')))"
      ]
     },
     "metadata": {},
     "output_type": "display_data"
    },
    {
     "data": {
      "application/vnd.jupyter.widget-view+json": {
       "model_id": "",
       "version_major": 2,
       "version_minor": 0
      },
      "text/plain": [
       "HBox(children=(IntProgress(value=0, max=7825), HTML(value='')))"
      ]
     },
     "metadata": {},
     "output_type": "display_data"
    },
    {
     "data": {
      "application/vnd.jupyter.widget-view+json": {
       "model_id": "",
       "version_major": 2,
       "version_minor": 0
      },
      "text/plain": [
       "HBox(children=(IntProgress(value=0, max=7825), HTML(value='')))"
      ]
     },
     "metadata": {},
     "output_type": "display_data"
    },
    {
     "data": {
      "application/vnd.jupyter.widget-view+json": {
       "model_id": "",
       "version_major": 2,
       "version_minor": 0
      },
      "text/plain": [
       "HBox(children=(IntProgress(value=0, max=7825), HTML(value='')))"
      ]
     },
     "metadata": {},
     "output_type": "display_data"
    },
    {
     "data": {
      "application/vnd.jupyter.widget-view+json": {
       "model_id": "",
       "version_major": 2,
       "version_minor": 0
      },
      "text/plain": [
       "HBox(children=(IntProgress(value=0, max=7825), HTML(value='')))"
      ]
     },
     "metadata": {},
     "output_type": "display_data"
    },
    {
     "data": {
      "application/vnd.jupyter.widget-view+json": {
       "model_id": "",
       "version_major": 2,
       "version_minor": 0
      },
      "text/plain": [
       "HBox(children=(IntProgress(value=0, max=7825), HTML(value='')))"
      ]
     },
     "metadata": {},
     "output_type": "display_data"
    },
    {
     "data": {
      "application/vnd.jupyter.widget-view+json": {
       "model_id": "",
       "version_major": 2,
       "version_minor": 0
      },
      "text/plain": [
       "HBox(children=(IntProgress(value=0, max=7825), HTML(value='')))"
      ]
     },
     "metadata": {},
     "output_type": "display_data"
    },
    {
     "name": "stdout",
     "output_type": "stream",
     "text": [
      "\n"
     ]
    }
   ],
   "source": [
    "sample_resid_expr = resid_expr.sample(n=len(counts.columns), axis=1, random_state=1)\n",
    "\n",
    "X = sample_info[['x', 'y']]\n",
    "sample_resid_expr.head()\n",
    "results = SpatialDE.run(X, sample_resid_expr)"
   ]
  },
  {
   "cell_type": "code",
   "execution_count": 41,
   "metadata": {},
   "outputs": [
    {
     "data": {
      "text/html": [
       "<div>\n",
       "<style scoped>\n",
       "    .dataframe tbody tr th:only-of-type {\n",
       "        vertical-align: middle;\n",
       "    }\n",
       "\n",
       "    .dataframe tbody tr th {\n",
       "        vertical-align: top;\n",
       "    }\n",
       "\n",
       "    .dataframe thead th {\n",
       "        text-align: right;\n",
       "    }\n",
       "</style>\n",
       "<table border=\"1\" class=\"dataframe\">\n",
       "  <thead>\n",
       "    <tr style=\"text-align: right;\">\n",
       "      <th></th>\n",
       "      <th>0</th>\n",
       "      <th>1</th>\n",
       "      <th>2</th>\n",
       "      <th>3</th>\n",
       "      <th>4</th>\n",
       "    </tr>\n",
       "  </thead>\n",
       "  <tbody>\n",
       "    <tr>\n",
       "      <td>FSV</td>\n",
       "      <td>0.999954</td>\n",
       "      <td>2.02053e-09</td>\n",
       "      <td>2.02053e-09</td>\n",
       "      <td>0.999954</td>\n",
       "      <td>2.02053e-09</td>\n",
       "    </tr>\n",
       "    <tr>\n",
       "      <td>M</td>\n",
       "      <td>4</td>\n",
       "      <td>4</td>\n",
       "      <td>4</td>\n",
       "      <td>4</td>\n",
       "      <td>4</td>\n",
       "    </tr>\n",
       "    <tr>\n",
       "      <td>g</td>\n",
       "      <td>ENSMUSG00000057455</td>\n",
       "      <td>ENSMUSG00000028672</td>\n",
       "      <td>ENSMUSG00000029478</td>\n",
       "      <td>ENSMUSG00000101111</td>\n",
       "      <td>ENSMUSG00000026411</td>\n",
       "    </tr>\n",
       "    <tr>\n",
       "      <td>l</td>\n",
       "      <td>0.47</td>\n",
       "      <td>0.47</td>\n",
       "      <td>0.47</td>\n",
       "      <td>0.47</td>\n",
       "      <td>0.47</td>\n",
       "    </tr>\n",
       "    <tr>\n",
       "      <td>max_delta</td>\n",
       "      <td>4.53999e-05</td>\n",
       "      <td>4.85165e+08</td>\n",
       "      <td>4.85165e+08</td>\n",
       "      <td>4.53999e-05</td>\n",
       "      <td>4.85165e+08</td>\n",
       "    </tr>\n",
       "    <tr>\n",
       "      <td>max_ll</td>\n",
       "      <td>9.8016</td>\n",
       "      <td>17.0261</td>\n",
       "      <td>7.29248</td>\n",
       "      <td>1.8693</td>\n",
       "      <td>9.01983</td>\n",
       "    </tr>\n",
       "    <tr>\n",
       "      <td>max_mu_hat</td>\n",
       "      <td>1.56684</td>\n",
       "      <td>1.96996</td>\n",
       "      <td>0.0308108</td>\n",
       "      <td>1.9836</td>\n",
       "      <td>1.02251</td>\n",
       "    </tr>\n",
       "    <tr>\n",
       "      <td>max_s2_t_hat</td>\n",
       "      <td>1.9228</td>\n",
       "      <td>8.01317e-09</td>\n",
       "      <td>5.04577e-11</td>\n",
       "      <td>3.10077</td>\n",
       "      <td>2.19408e-09</td>\n",
       "    </tr>\n",
       "    <tr>\n",
       "      <td>model</td>\n",
       "      <td>SE</td>\n",
       "      <td>SE</td>\n",
       "      <td>SE</td>\n",
       "      <td>SE</td>\n",
       "      <td>SE</td>\n",
       "    </tr>\n",
       "    <tr>\n",
       "      <td>n</td>\n",
       "      <td>16</td>\n",
       "      <td>16</td>\n",
       "      <td>16</td>\n",
       "      <td>16</td>\n",
       "      <td>16</td>\n",
       "    </tr>\n",
       "    <tr>\n",
       "      <td>s2_FSV</td>\n",
       "      <td>110.604</td>\n",
       "      <td>4.37691</td>\n",
       "      <td>2.40088</td>\n",
       "      <td>7191.91</td>\n",
       "      <td>8.61392</td>\n",
       "    </tr>\n",
       "    <tr>\n",
       "      <td>s2_logdelta</td>\n",
       "      <td>3.73482e+10</td>\n",
       "      <td>7.76272e+17</td>\n",
       "      <td>4.2581e+17</td>\n",
       "      <td>2.42853e+12</td>\n",
       "      <td>1.52773e+18</td>\n",
       "    </tr>\n",
       "    <tr>\n",
       "      <td>time</td>\n",
       "      <td>0.000997543</td>\n",
       "      <td>0.0010097</td>\n",
       "      <td>0.000996351</td>\n",
       "      <td>0.000997066</td>\n",
       "      <td>0.000990152</td>\n",
       "    </tr>\n",
       "    <tr>\n",
       "      <td>BIC</td>\n",
       "      <td>-8.51284</td>\n",
       "      <td>-22.9618</td>\n",
       "      <td>-3.4946</td>\n",
       "      <td>7.35176</td>\n",
       "      <td>-6.94931</td>\n",
       "    </tr>\n",
       "    <tr>\n",
       "      <td>max_ll_null</td>\n",
       "      <td>9.61689</td>\n",
       "      <td>17.0098</td>\n",
       "      <td>7.27617</td>\n",
       "      <td>1.81281</td>\n",
       "      <td>9.00352</td>\n",
       "    </tr>\n",
       "    <tr>\n",
       "      <td>LLR</td>\n",
       "      <td>0.184708</td>\n",
       "      <td>0.0163082</td>\n",
       "      <td>0.0163082</td>\n",
       "      <td>0.0564881</td>\n",
       "      <td>0.0163082</td>\n",
       "    </tr>\n",
       "    <tr>\n",
       "      <td>pval</td>\n",
       "      <td>0.667358</td>\n",
       "      <td>0.898384</td>\n",
       "      <td>0.898384</td>\n",
       "      <td>0.812135</td>\n",
       "      <td>0.898384</td>\n",
       "    </tr>\n",
       "    <tr>\n",
       "      <td>qval</td>\n",
       "      <td>0.898384</td>\n",
       "      <td>0.898384</td>\n",
       "      <td>0.898384</td>\n",
       "      <td>0.898384</td>\n",
       "      <td>0.898384</td>\n",
       "    </tr>\n",
       "  </tbody>\n",
       "</table>\n",
       "</div>"
      ],
      "text/plain": [
       "                               0                   1                   2  \\\n",
       "FSV                     0.999954         2.02053e-09         2.02053e-09   \n",
       "M                              4                   4                   4   \n",
       "g             ENSMUSG00000057455  ENSMUSG00000028672  ENSMUSG00000029478   \n",
       "l                           0.47                0.47                0.47   \n",
       "max_delta            4.53999e-05         4.85165e+08         4.85165e+08   \n",
       "max_ll                    9.8016             17.0261             7.29248   \n",
       "max_mu_hat               1.56684             1.96996           0.0308108   \n",
       "max_s2_t_hat              1.9228         8.01317e-09         5.04577e-11   \n",
       "model                         SE                  SE                  SE   \n",
       "n                             16                  16                  16   \n",
       "s2_FSV                   110.604             4.37691             2.40088   \n",
       "s2_logdelta          3.73482e+10         7.76272e+17          4.2581e+17   \n",
       "time                 0.000997543           0.0010097         0.000996351   \n",
       "BIC                     -8.51284            -22.9618             -3.4946   \n",
       "max_ll_null              9.61689             17.0098             7.27617   \n",
       "LLR                     0.184708           0.0163082           0.0163082   \n",
       "pval                    0.667358            0.898384            0.898384   \n",
       "qval                    0.898384            0.898384            0.898384   \n",
       "\n",
       "                               3                   4  \n",
       "FSV                     0.999954         2.02053e-09  \n",
       "M                              4                   4  \n",
       "g             ENSMUSG00000101111  ENSMUSG00000026411  \n",
       "l                           0.47                0.47  \n",
       "max_delta            4.53999e-05         4.85165e+08  \n",
       "max_ll                    1.8693             9.01983  \n",
       "max_mu_hat                1.9836             1.02251  \n",
       "max_s2_t_hat             3.10077         2.19408e-09  \n",
       "model                         SE                  SE  \n",
       "n                             16                  16  \n",
       "s2_FSV                   7191.91             8.61392  \n",
       "s2_logdelta          2.42853e+12         1.52773e+18  \n",
       "time                 0.000997066         0.000990152  \n",
       "BIC                      7.35176            -6.94931  \n",
       "max_ll_null              1.81281             9.00352  \n",
       "LLR                    0.0564881           0.0163082  \n",
       "pval                    0.812135            0.898384  \n",
       "qval                    0.898384            0.898384  "
      ]
     },
     "execution_count": 41,
     "metadata": {},
     "output_type": "execute_result"
    }
   ],
   "source": [
    "results.head().T"
   ]
  },
  {
   "cell_type": "code",
   "execution_count": 51,
   "metadata": {},
   "outputs": [
    {
     "data": {
      "text/html": [
       "<div>\n",
       "<style scoped>\n",
       "    .dataframe tbody tr th:only-of-type {\n",
       "        vertical-align: middle;\n",
       "    }\n",
       "\n",
       "    .dataframe tbody tr th {\n",
       "        vertical-align: top;\n",
       "    }\n",
       "\n",
       "    .dataframe thead th {\n",
       "        text-align: right;\n",
       "    }\n",
       "</style>\n",
       "<table border=\"1\" class=\"dataframe\">\n",
       "  <thead>\n",
       "    <tr style=\"text-align: right;\">\n",
       "      <th></th>\n",
       "      <th>g</th>\n",
       "      <th>l</th>\n",
       "      <th>pval</th>\n",
       "      <th>qval</th>\n",
       "    </tr>\n",
       "  </thead>\n",
       "  <tbody>\n",
       "    <tr>\n",
       "      <td>0</td>\n",
       "      <td>ENSMUSG00000057455</td>\n",
       "      <td>0.47</td>\n",
       "      <td>0.667358</td>\n",
       "      <td>0.898384</td>\n",
       "    </tr>\n",
       "    <tr>\n",
       "      <td>5223</td>\n",
       "      <td>ENSMUSG00000105866</td>\n",
       "      <td>0.47</td>\n",
       "      <td>0.898384</td>\n",
       "      <td>0.898384</td>\n",
       "    </tr>\n",
       "    <tr>\n",
       "      <td>5222</td>\n",
       "      <td>ENSMUSG00000020029</td>\n",
       "      <td>0.47</td>\n",
       "      <td>0.898384</td>\n",
       "      <td>0.898384</td>\n",
       "    </tr>\n",
       "    <tr>\n",
       "      <td>5221</td>\n",
       "      <td>ENSMUSG00000015120</td>\n",
       "      <td>0.47</td>\n",
       "      <td>0.898384</td>\n",
       "      <td>0.898384</td>\n",
       "    </tr>\n",
       "    <tr>\n",
       "      <td>5220</td>\n",
       "      <td>ENSMUSG00000018678</td>\n",
       "      <td>0.47</td>\n",
       "      <td>0.898384</td>\n",
       "      <td>0.898384</td>\n",
       "    </tr>\n",
       "  </tbody>\n",
       "</table>\n",
       "</div>"
      ],
      "text/plain": [
       "                       g     l      pval      qval\n",
       "0     ENSMUSG00000057455  0.47  0.667358  0.898384\n",
       "5223  ENSMUSG00000105866  0.47  0.898384  0.898384\n",
       "5222  ENSMUSG00000020029  0.47  0.898384  0.898384\n",
       "5221  ENSMUSG00000015120  0.47  0.898384  0.898384\n",
       "5220  ENSMUSG00000018678  0.47  0.898384  0.898384"
      ]
     },
     "execution_count": 51,
     "metadata": {},
     "output_type": "execute_result"
    }
   ],
   "source": [
    "results.sort_values('qval').head(5)[['g', 'l', 'pval','qval']]"
   ]
  },
  {
   "cell_type": "code",
   "execution_count": 53,
   "metadata": {},
   "outputs": [
    {
     "data": {
      "image/png": "[encoded data removed]",
      "text/plain": [
       "<Figure size 720x216 with 6 Axes>"
      ]
     },
     "metadata": {
      "needs_background": "light"
     },
     "output_type": "display_data"
    }
   ],
   "source": [
    "figsize(10, 3)\n",
    "for i, g in enumerate(['ENSMUSG00000105866', 'ENSMUSG00000020029', 'ENSMUSG00000015120']):\n",
    "    plt.subplot(1, 3, i + 1)\n",
    "    plt.scatter(sample_info['x'], sample_info['y'], c=norm_expr[g]);\n",
    "    plt.title(g)\n",
    "    plt.axis('equal')\n",
    "\n",
    "\n",
    "    plt.colorbar(ticks=[]);"
   ]
  },
  {
   "cell_type": "code",
   "execution_count": 54,
   "metadata": {},
   "outputs": [
    {
     "data": {
      "text/html": [
       "<div>\n",
       "<style scoped>\n",
       "    .dataframe tbody tr th:only-of-type {\n",
       "        vertical-align: middle;\n",
       "    }\n",
       "\n",
       "    .dataframe tbody tr th {\n",
       "        vertical-align: top;\n",
       "    }\n",
       "\n",
       "    .dataframe thead th {\n",
       "        text-align: right;\n",
       "    }\n",
       "</style>\n",
       "<table border=\"1\" class=\"dataframe\">\n",
       "  <thead>\n",
       "    <tr style=\"text-align: right;\">\n",
       "      <th></th>\n",
       "      <th>g</th>\n",
       "      <th>l</th>\n",
       "      <th>qval</th>\n",
       "    </tr>\n",
       "  </thead>\n",
       "  <tbody>\n",
       "    <tr>\n",
       "      <td>2606</td>\n",
       "      <td>ENSMUSG00000065990</td>\n",
       "      <td>0.470000</td>\n",
       "      <td>0.898384</td>\n",
       "    </tr>\n",
       "    <tr>\n",
       "      <td>2605</td>\n",
       "      <td>ENSMUSG00000020255</td>\n",
       "      <td>0.470000</td>\n",
       "      <td>0.898384</td>\n",
       "    </tr>\n",
       "    <tr>\n",
       "      <td>2604</td>\n",
       "      <td>ENSMUSG00000022031</td>\n",
       "      <td>0.470000</td>\n",
       "      <td>0.898384</td>\n",
       "    </tr>\n",
       "    <tr>\n",
       "      <td>2603</td>\n",
       "      <td>ENSMUSG00000031633</td>\n",
       "      <td>0.470000</td>\n",
       "      <td>0.898384</td>\n",
       "    </tr>\n",
       "    <tr>\n",
       "      <td>2602</td>\n",
       "      <td>ENSMUSG00000032412</td>\n",
       "      <td>0.470000</td>\n",
       "      <td>0.898384</td>\n",
       "    </tr>\n",
       "    <tr>\n",
       "      <td>2601</td>\n",
       "      <td>ENSMUSG00000024208</td>\n",
       "      <td>0.470000</td>\n",
       "      <td>0.898384</td>\n",
       "    </tr>\n",
       "    <tr>\n",
       "      <td>2600</td>\n",
       "      <td>ENSMUSG00000017943</td>\n",
       "      <td>0.470000</td>\n",
       "      <td>0.898384</td>\n",
       "    </tr>\n",
       "    <tr>\n",
       "      <td>2599</td>\n",
       "      <td>ENSMUSG00000039536</td>\n",
       "      <td>0.470000</td>\n",
       "      <td>0.898384</td>\n",
       "    </tr>\n",
       "    <tr>\n",
       "      <td>2597</td>\n",
       "      <td>ENSMUSG00000074649</td>\n",
       "      <td>0.470000</td>\n",
       "      <td>0.898384</td>\n",
       "    </tr>\n",
       "    <tr>\n",
       "      <td>7824</td>\n",
       "      <td>ENSMUSG00000029156</td>\n",
       "      <td>2.667776</td>\n",
       "      <td>0.898384</td>\n",
       "    </tr>\n",
       "  </tbody>\n",
       "</table>\n",
       "</div>"
      ],
      "text/plain": [
       "                       g         l      qval\n",
       "2606  ENSMUSG00000065990  0.470000  0.898384\n",
       "2605  ENSMUSG00000020255  0.470000  0.898384\n",
       "2604  ENSMUSG00000022031  0.470000  0.898384\n",
       "2603  ENSMUSG00000031633  0.470000  0.898384\n",
       "2602  ENSMUSG00000032412  0.470000  0.898384\n",
       "2601  ENSMUSG00000024208  0.470000  0.898384\n",
       "2600  ENSMUSG00000017943  0.470000  0.898384\n",
       "2599  ENSMUSG00000039536  0.470000  0.898384\n",
       "2597  ENSMUSG00000074649  0.470000  0.898384\n",
       "7824  ENSMUSG00000029156  2.667776  0.898384"
      ]
     },
     "execution_count": 54,
     "metadata": {},
     "output_type": "execute_result"
    }
   ],
   "source": [
    "results.sort_values('qval').tail(10)[['g', 'l', 'qval']]"
   ]
  },
  {
   "cell_type": "code",
   "execution_count": 55,
   "metadata": {},
   "outputs": [
    {
     "data": {
      "image/png": "[encoded data removed]",
      "text/plain": [
       "<Figure size 720x216 with 6 Axes>"
      ]
     },
     "metadata": {
      "needs_background": "light"
     },
     "output_type": "display_data"
    }
   ],
   "source": [
    "figsize(10, 3)\n",
    "for i, g in enumerate(['ENSMUSG00000039536', 'ENSMUSG00000074649', 'ENSMUSG00000029156']):\n",
    "    plt.subplot(1, 3, i + 1)\n",
    "    plt.scatter(sample_info['x'], sample_info['y'], c=norm_expr[g]);\n",
    "    plt.title(g)\n",
    "    plt.axis('equal')\n",
    "\n",
    "\n",
    "    plt.colorbar(ticks=[]);"
   ]
  },
  {
   "cell_type": "code",
   "execution_count": 56,
   "metadata": {},
   "outputs": [
    {
     "data": {
      "image/png": "[encoded data removed]",
      "text/plain": [
       "<Figure size 360x288 with 1 Axes>"
      ]
     },
     "metadata": {
      "needs_background": "light"
     },
     "output_type": "display_data"
    }
   ],
   "source": [
    "figsize(5, 4)\n",
    "plt.yscale('log')\n",
    "\n",
    "plt.scatter(results['FSV'], results['qval'], c='black')\n",
    "\n",
    "plt.axhline(0.05, c='black', lw=1, ls='--');\n",
    "\n",
    "plt.gca().invert_yaxis();\n",
    "plt.xlabel('Fraction spatial variance')\n",
    "plt.ylabel('Adj. P-value');"
   ]
  },
  {
   "cell_type": "code",
   "execution_count": 59,
   "metadata": {},
   "outputs": [
    {
     "data": {
      "text/plain": [
       "Series([], Name: l, dtype: int64)"
      ]
     },
     "execution_count": 59,
     "metadata": {},
     "output_type": "execute_result"
    }
   ],
   "source": [
    "sign_results = results.query('qval < 0.5')\n",
    "sign_results['l'].value_counts()\n"
   ]
  }
 ],
 "metadata": {
  "kernelspec": {
   "display_name": "Python 3",
   "language": "python",
   "name": "python3"
  },
  "language_info": {
   "codemirror_mode": {
    "name": "ipython",
    "version": 3
   },
   "file_extension": ".py",
   "mimetype": "text/x-python",
   "name": "python",
   "nbconvert_exporter": "python",
   "pygments_lexer": "ipython3",
   "version": "3.7.4"
  }
 },
 "nbformat": 4,
 "nbformat_minor": 2
}
