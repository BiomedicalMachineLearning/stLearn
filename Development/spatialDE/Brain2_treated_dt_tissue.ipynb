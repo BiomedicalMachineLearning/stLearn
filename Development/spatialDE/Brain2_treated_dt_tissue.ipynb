{
 "cells": [
  {
   "cell_type": "code",
   "execution_count": 2,
   "metadata": {},
   "outputs": [
    {
     "name": "stdout",
     "output_type": "stream",
     "text": [
      "Populating the interactive namespace from numpy and matplotlib\n"
     ]
    }
   ],
   "source": [
    "%pylab inline\n",
    "import pandas as pd\n",
    "\n",
    "rcParams['axes.spines.right'] = False\n",
    "rcParams['axes.spines.top'] = False\n",
    "\n",
    "import NaiveDE\n",
    "import SpatialDE"
   ]
  },
  {
   "cell_type": "code",
   "execution_count": 3,
   "metadata": {},
   "outputs": [
    {
     "name": "stdout",
     "output_type": "stream",
     "text": [
      "(11, 4560)\n"
     ]
    },
    {
     "data": {
      "text/html": [
       "<div>\n",
       "<style scoped>\n",
       "    .dataframe tbody tr th:only-of-type {\n",
       "        vertical-align: middle;\n",
       "    }\n",
       "\n",
       "    .dataframe tbody tr th {\n",
       "        vertical-align: top;\n",
       "    }\n",
       "\n",
       "    .dataframe thead th {\n",
       "        text-align: right;\n",
       "    }\n",
       "</style>\n",
       "<table border=\"1\" class=\"dataframe\">\n",
       "  <thead>\n",
       "    <tr style=\"text-align: right;\">\n",
       "      <th></th>\n",
       "      <th>ENSMUSG00000033813</th>\n",
       "      <th>ENSMUSG00000033793</th>\n",
       "      <th>ENSMUSG00000025907</th>\n",
       "      <th>ENSMUSG00000051285</th>\n",
       "      <th>ENSMUSG00000025917</th>\n",
       "    </tr>\n",
       "  </thead>\n",
       "  <tbody>\n",
       "    <tr>\n",
       "      <td>26.02x13.95</td>\n",
       "      <td>0.0</td>\n",
       "      <td>0.0</td>\n",
       "      <td>0.0</td>\n",
       "      <td>1.0</td>\n",
       "      <td>2.0</td>\n",
       "    </tr>\n",
       "    <tr>\n",
       "      <td>26.02x14.93</td>\n",
       "      <td>1.0</td>\n",
       "      <td>0.0</td>\n",
       "      <td>2.0</td>\n",
       "      <td>0.0</td>\n",
       "      <td>1.0</td>\n",
       "    </tr>\n",
       "    <tr>\n",
       "      <td>27.03x13.95</td>\n",
       "      <td>1.0</td>\n",
       "      <td>0.0</td>\n",
       "      <td>0.0</td>\n",
       "      <td>0.0</td>\n",
       "      <td>0.0</td>\n",
       "    </tr>\n",
       "    <tr>\n",
       "      <td>27.01x14.88</td>\n",
       "      <td>0.0</td>\n",
       "      <td>0.0</td>\n",
       "      <td>0.0</td>\n",
       "      <td>1.0</td>\n",
       "      <td>1.0</td>\n",
       "    </tr>\n",
       "    <tr>\n",
       "      <td>28.07x12.93</td>\n",
       "      <td>0.0</td>\n",
       "      <td>0.0</td>\n",
       "      <td>0.0</td>\n",
       "      <td>0.0</td>\n",
       "      <td>2.0</td>\n",
       "    </tr>\n",
       "  </tbody>\n",
       "</table>\n",
       "</div>"
      ],
      "text/plain": [
       "             ENSMUSG00000033813  ENSMUSG00000033793  ENSMUSG00000025907  \\\n",
       "26.02x13.95                 0.0                 0.0                 0.0   \n",
       "26.02x14.93                 1.0                 0.0                 2.0   \n",
       "27.03x13.95                 1.0                 0.0                 0.0   \n",
       "27.01x14.88                 0.0                 0.0                 0.0   \n",
       "28.07x12.93                 0.0                 0.0                 0.0   \n",
       "\n",
       "             ENSMUSG00000051285  ENSMUSG00000025917  \n",
       "26.02x13.95                 1.0                 2.0  \n",
       "26.02x14.93                 0.0                 1.0  \n",
       "27.03x13.95                 0.0                 0.0  \n",
       "27.01x14.88                 1.0                 1.0  \n",
       "28.07x12.93                 0.0                 2.0  "
      ]
     },
     "execution_count": 3,
     "metadata": {},
     "output_type": "execute_result"
    }
   ],
   "source": [
    "counts = pd.read_csv('Data/Brain2_treated_dt_tissue.tsv', sep='\\t',index_col=0)\n",
    "counts = counts.T[counts.sum(0) >= 3].T  # Filter practically unobserved genes\n",
    "print(counts.shape)\n",
    "counts.iloc[:5, :5]"
   ]
  },
  {
   "cell_type": "code",
   "execution_count": 4,
   "metadata": {},
   "outputs": [
    {
     "data": {
      "text/html": [
       "<div>\n",
       "<style scoped>\n",
       "    .dataframe tbody tr th:only-of-type {\n",
       "        vertical-align: middle;\n",
       "    }\n",
       "\n",
       "    .dataframe tbody tr th {\n",
       "        vertical-align: top;\n",
       "    }\n",
       "\n",
       "    .dataframe thead th {\n",
       "        text-align: right;\n",
       "    }\n",
       "</style>\n",
       "<table border=\"1\" class=\"dataframe\">\n",
       "  <thead>\n",
       "    <tr style=\"text-align: right;\">\n",
       "      <th></th>\n",
       "      <th>x</th>\n",
       "      <th>y</th>\n",
       "      <th>total_counts</th>\n",
       "    </tr>\n",
       "  </thead>\n",
       "  <tbody>\n",
       "    <tr>\n",
       "      <td>26.02x13.95</td>\n",
       "      <td>26.02</td>\n",
       "      <td>13.95</td>\n",
       "      <td>4025.0</td>\n",
       "    </tr>\n",
       "    <tr>\n",
       "      <td>26.02x14.93</td>\n",
       "      <td>26.02</td>\n",
       "      <td>14.93</td>\n",
       "      <td>5315.0</td>\n",
       "    </tr>\n",
       "    <tr>\n",
       "      <td>27.03x13.95</td>\n",
       "      <td>27.03</td>\n",
       "      <td>13.95</td>\n",
       "      <td>1672.0</td>\n",
       "    </tr>\n",
       "    <tr>\n",
       "      <td>27.01x14.88</td>\n",
       "      <td>27.01</td>\n",
       "      <td>14.88</td>\n",
       "      <td>4413.0</td>\n",
       "    </tr>\n",
       "    <tr>\n",
       "      <td>28.07x12.93</td>\n",
       "      <td>28.07</td>\n",
       "      <td>12.93</td>\n",
       "      <td>4702.0</td>\n",
       "    </tr>\n",
       "  </tbody>\n",
       "</table>\n",
       "</div>"
      ],
      "text/plain": [
       "                 x      y  total_counts\n",
       "26.02x13.95  26.02  13.95        4025.0\n",
       "26.02x14.93  26.02  14.93        5315.0\n",
       "27.03x13.95  27.03  13.95        1672.0\n",
       "27.01x14.88  27.01  14.88        4413.0\n",
       "28.07x12.93  28.07  12.93        4702.0"
      ]
     },
     "execution_count": 4,
     "metadata": {},
     "output_type": "execute_result"
    }
   ],
   "source": [
    "sample_info = pd.DataFrame(0, index = counts.index, columns = ['x','y','total_counts'])\n",
    "sample_info.loc[:,'x'] = [float(item.split('x')[0]) for item in sample_info.index]\n",
    "sample_info.loc[:,'y'] = [float(item.split('x')[1]) for item in sample_info.index]\n",
    "sample_info.loc[:,'total_counts'] = counts.sum(axis=1)\n",
    "sample_info.head(5)"
   ]
  },
  {
   "cell_type": "code",
   "execution_count": 5,
   "metadata": {},
   "outputs": [
    {
     "data": {
      "image/png": "[encoded data removed]",
      "text/plain": [
       "<Figure size 432x288 with 1 Axes>"
      ]
     },
     "metadata": {
      "needs_background": "light"
     },
     "output_type": "display_data"
    }
   ],
   "source": [
    "figsize(6, 4)\n",
    "plt.scatter(sample_info['x'], sample_info['y'], c='k');\n",
    "plt.axis('equal');"
   ]
  },
  {
   "cell_type": "code",
   "execution_count": 6,
   "metadata": {},
   "outputs": [],
   "source": [
    "norm_expr = NaiveDE.stabilize(counts.T).T\n",
    "resid_expr = NaiveDE.regress_out(sample_info, norm_expr.T, 'np.log(total_counts)').T"
   ]
  },
  {
   "cell_type": "code",
   "execution_count": 7,
   "metadata": {},
   "outputs": [
    {
     "data": {
      "application/vnd.jupyter.widget-view+json": {
       "model_id": "636f2be57e1d4f58856e2fdf0d86e27c",
       "version_major": 2,
       "version_minor": 0
      },
      "text/plain": [
       "HBox(children=(IntProgress(value=0, description='Models: ', max=10, style=ProgressStyle(description_width='ini…"
      ]
     },
     "metadata": {},
     "output_type": "display_data"
    },
    {
     "data": {
      "application/vnd.jupyter.widget-view+json": {
       "model_id": "",
       "version_major": 2,
       "version_minor": 0
      },
      "text/plain": [
       "HBox(children=(IntProgress(value=0, max=4560), HTML(value='')))"
      ]
     },
     "metadata": {},
     "output_type": "display_data"
    },
    {
     "data": {
      "application/vnd.jupyter.widget-view+json": {
       "model_id": "",
       "version_major": 2,
       "version_minor": 0
      },
      "text/plain": [
       "HBox(children=(IntProgress(value=0, max=4560), HTML(value='')))"
      ]
     },
     "metadata": {},
     "output_type": "display_data"
    },
    {
     "data": {
      "application/vnd.jupyter.widget-view+json": {
       "model_id": "",
       "version_major": 2,
       "version_minor": 0
      },
      "text/plain": [
       "HBox(children=(IntProgress(value=0, max=4560), HTML(value='')))"
      ]
     },
     "metadata": {},
     "output_type": "display_data"
    },
    {
     "data": {
      "application/vnd.jupyter.widget-view+json": {
       "model_id": "",
       "version_major": 2,
       "version_minor": 0
      },
      "text/plain": [
       "HBox(children=(IntProgress(value=0, max=4560), HTML(value='')))"
      ]
     },
     "metadata": {},
     "output_type": "display_data"
    },
    {
     "data": {
      "application/vnd.jupyter.widget-view+json": {
       "model_id": "",
       "version_major": 2,
       "version_minor": 0
      },
      "text/plain": [
       "HBox(children=(IntProgress(value=0, max=4560), HTML(value='')))"
      ]
     },
     "metadata": {},
     "output_type": "display_data"
    },
    {
     "data": {
      "application/vnd.jupyter.widget-view+json": {
       "model_id": "",
       "version_major": 2,
       "version_minor": 0
      },
      "text/plain": [
       "HBox(children=(IntProgress(value=0, max=4560), HTML(value='')))"
      ]
     },
     "metadata": {},
     "output_type": "display_data"
    },
    {
     "data": {
      "application/vnd.jupyter.widget-view+json": {
       "model_id": "",
       "version_major": 2,
       "version_minor": 0
      },
      "text/plain": [
       "HBox(children=(IntProgress(value=0, max=4560), HTML(value='')))"
      ]
     },
     "metadata": {},
     "output_type": "display_data"
    },
    {
     "data": {
      "application/vnd.jupyter.widget-view+json": {
       "model_id": "",
       "version_major": 2,
       "version_minor": 0
      },
      "text/plain": [
       "HBox(children=(IntProgress(value=0, max=4560), HTML(value='')))"
      ]
     },
     "metadata": {},
     "output_type": "display_data"
    },
    {
     "data": {
      "application/vnd.jupyter.widget-view+json": {
       "model_id": "",
       "version_major": 2,
       "version_minor": 0
      },
      "text/plain": [
       "HBox(children=(IntProgress(value=0, max=4560), HTML(value='')))"
      ]
     },
     "metadata": {},
     "output_type": "display_data"
    },
    {
     "data": {
      "application/vnd.jupyter.widget-view+json": {
       "model_id": "",
       "version_major": 2,
       "version_minor": 0
      },
      "text/plain": [
       "HBox(children=(IntProgress(value=0, max=4560), HTML(value='')))"
      ]
     },
     "metadata": {},
     "output_type": "display_data"
    },
    {
     "name": "stdout",
     "output_type": "stream",
     "text": [
      "\n"
     ]
    }
   ],
   "source": [
    "sample_resid_expr = resid_expr.sample(n=len(counts.columns), axis=1, random_state=1)\n",
    "\n",
    "X = sample_info[['x', 'y']]\n",
    "sample_resid_expr.head()\n",
    "results = SpatialDE.run(X, sample_resid_expr)"
   ]
  },
  {
   "cell_type": "code",
   "execution_count": 8,
   "metadata": {},
   "outputs": [
    {
     "data": {
      "text/html": [
       "<div>\n",
       "<style scoped>\n",
       "    .dataframe tbody tr th:only-of-type {\n",
       "        vertical-align: middle;\n",
       "    }\n",
       "\n",
       "    .dataframe tbody tr th {\n",
       "        vertical-align: top;\n",
       "    }\n",
       "\n",
       "    .dataframe thead th {\n",
       "        text-align: right;\n",
       "    }\n",
       "</style>\n",
       "<table border=\"1\" class=\"dataframe\">\n",
       "  <thead>\n",
       "    <tr style=\"text-align: right;\">\n",
       "      <th></th>\n",
       "      <th>0</th>\n",
       "      <th>1</th>\n",
       "      <th>2</th>\n",
       "      <th>3</th>\n",
       "      <th>4</th>\n",
       "    </tr>\n",
       "  </thead>\n",
       "  <tbody>\n",
       "    <tr>\n",
       "      <td>FSV</td>\n",
       "      <td>2.00502e-09</td>\n",
       "      <td>2.00502e-09</td>\n",
       "      <td>2.00502e-09</td>\n",
       "      <td>2.00502e-09</td>\n",
       "      <td>2.00502e-09</td>\n",
       "    </tr>\n",
       "    <tr>\n",
       "      <td>M</td>\n",
       "      <td>4</td>\n",
       "      <td>4</td>\n",
       "      <td>4</td>\n",
       "      <td>4</td>\n",
       "      <td>4</td>\n",
       "    </tr>\n",
       "    <tr>\n",
       "      <td>g</td>\n",
       "      <td>ENSMUSG00000032186</td>\n",
       "      <td>ENSMUSG00000033751</td>\n",
       "      <td>ENSMUSG00000022263</td>\n",
       "      <td>ENSMUSG00000100862</td>\n",
       "      <td>ENSMUSG00000068014</td>\n",
       "    </tr>\n",
       "    <tr>\n",
       "      <td>l</td>\n",
       "      <td>0.465108</td>\n",
       "      <td>0.465108</td>\n",
       "      <td>0.465108</td>\n",
       "      <td>0.465108</td>\n",
       "      <td>0.465108</td>\n",
       "    </tr>\n",
       "    <tr>\n",
       "      <td>max_delta</td>\n",
       "      <td>4.85165e+08</td>\n",
       "      <td>4.85165e+08</td>\n",
       "      <td>4.85165e+08</td>\n",
       "      <td>4.85165e+08</td>\n",
       "      <td>4.85165e+08</td>\n",
       "    </tr>\n",
       "    <tr>\n",
       "      <td>max_ll</td>\n",
       "      <td>4.05086</td>\n",
       "      <td>13.6042</td>\n",
       "      <td>10.3813</td>\n",
       "      <td>7.90267</td>\n",
       "      <td>11.4679</td>\n",
       "    </tr>\n",
       "    <tr>\n",
       "      <td>max_mu_hat</td>\n",
       "      <td>1.03809</td>\n",
       "      <td>1.77089</td>\n",
       "      <td>3.0896</td>\n",
       "      <td>0.518211</td>\n",
       "      <td>1.72561</td>\n",
       "    </tr>\n",
       "    <tr>\n",
       "      <td>max_s2_t_hat</td>\n",
       "      <td>2.27896e-09</td>\n",
       "      <td>6.47407e-09</td>\n",
       "      <td>1.96933e-08</td>\n",
       "      <td>5.82191e-10</td>\n",
       "      <td>6.15257e-09</td>\n",
       "    </tr>\n",
       "    <tr>\n",
       "      <td>model</td>\n",
       "      <td>SE</td>\n",
       "      <td>SE</td>\n",
       "      <td>SE</td>\n",
       "      <td>SE</td>\n",
       "      <td>SE</td>\n",
       "    </tr>\n",
       "    <tr>\n",
       "      <td>n</td>\n",
       "      <td>11</td>\n",
       "      <td>11</td>\n",
       "      <td>11</td>\n",
       "      <td>11</td>\n",
       "      <td>11</td>\n",
       "    </tr>\n",
       "    <tr>\n",
       "      <td>s2_FSV</td>\n",
       "      <td>73.8319</td>\n",
       "      <td>4.48035</td>\n",
       "      <td>26.4226</td>\n",
       "      <td>5.52291</td>\n",
       "      <td>9.95774</td>\n",
       "    </tr>\n",
       "    <tr>\n",
       "      <td>s2_logdelta</td>\n",
       "      <td>1.32978e+19</td>\n",
       "      <td>8.06952e+17</td>\n",
       "      <td>4.75896e+18</td>\n",
       "      <td>9.94727e+17</td>\n",
       "      <td>1.79348e+18</td>\n",
       "    </tr>\n",
       "    <tr>\n",
       "      <td>time</td>\n",
       "      <td>0</td>\n",
       "      <td>0.0019958</td>\n",
       "      <td>0.000997543</td>\n",
       "      <td>0.000997543</td>\n",
       "      <td>0.000996113</td>\n",
       "    </tr>\n",
       "    <tr>\n",
       "      <td>BIC</td>\n",
       "      <td>1.48985</td>\n",
       "      <td>-17.6169</td>\n",
       "      <td>-11.1711</td>\n",
       "      <td>-6.21376</td>\n",
       "      <td>-13.3443</td>\n",
       "    </tr>\n",
       "    <tr>\n",
       "      <td>max_ll_null</td>\n",
       "      <td>4.02666</td>\n",
       "      <td>13.58</td>\n",
       "      <td>10.3571</td>\n",
       "      <td>7.87846</td>\n",
       "      <td>11.4437</td>\n",
       "    </tr>\n",
       "    <tr>\n",
       "      <td>LLR</td>\n",
       "      <td>0.024206</td>\n",
       "      <td>0.024206</td>\n",
       "      <td>0.024206</td>\n",
       "      <td>0.024206</td>\n",
       "      <td>0.024206</td>\n",
       "    </tr>\n",
       "    <tr>\n",
       "      <td>pval</td>\n",
       "      <td>0.876362</td>\n",
       "      <td>0.876362</td>\n",
       "      <td>0.876362</td>\n",
       "      <td>0.876362</td>\n",
       "      <td>0.876362</td>\n",
       "    </tr>\n",
       "    <tr>\n",
       "      <td>qval</td>\n",
       "      <td>0</td>\n",
       "      <td>0</td>\n",
       "      <td>0</td>\n",
       "      <td>0</td>\n",
       "      <td>0</td>\n",
       "    </tr>\n",
       "  </tbody>\n",
       "</table>\n",
       "</div>"
      ],
      "text/plain": [
       "                               0                   1                   2  \\\n",
       "FSV                  2.00502e-09         2.00502e-09         2.00502e-09   \n",
       "M                              4                   4                   4   \n",
       "g             ENSMUSG00000032186  ENSMUSG00000033751  ENSMUSG00000022263   \n",
       "l                       0.465108            0.465108            0.465108   \n",
       "max_delta            4.85165e+08         4.85165e+08         4.85165e+08   \n",
       "max_ll                   4.05086             13.6042             10.3813   \n",
       "max_mu_hat               1.03809             1.77089              3.0896   \n",
       "max_s2_t_hat         2.27896e-09         6.47407e-09         1.96933e-08   \n",
       "model                         SE                  SE                  SE   \n",
       "n                             11                  11                  11   \n",
       "s2_FSV                   73.8319             4.48035             26.4226   \n",
       "s2_logdelta          1.32978e+19         8.06952e+17         4.75896e+18   \n",
       "time                           0           0.0019958         0.000997543   \n",
       "BIC                      1.48985            -17.6169            -11.1711   \n",
       "max_ll_null              4.02666               13.58             10.3571   \n",
       "LLR                     0.024206            0.024206            0.024206   \n",
       "pval                    0.876362            0.876362            0.876362   \n",
       "qval                           0                   0                   0   \n",
       "\n",
       "                               3                   4  \n",
       "FSV                  2.00502e-09         2.00502e-09  \n",
       "M                              4                   4  \n",
       "g             ENSMUSG00000100862  ENSMUSG00000068014  \n",
       "l                       0.465108            0.465108  \n",
       "max_delta            4.85165e+08         4.85165e+08  \n",
       "max_ll                   7.90267             11.4679  \n",
       "max_mu_hat              0.518211             1.72561  \n",
       "max_s2_t_hat         5.82191e-10         6.15257e-09  \n",
       "model                         SE                  SE  \n",
       "n                             11                  11  \n",
       "s2_FSV                   5.52291             9.95774  \n",
       "s2_logdelta          9.94727e+17         1.79348e+18  \n",
       "time                 0.000997543         0.000996113  \n",
       "BIC                     -6.21376            -13.3443  \n",
       "max_ll_null              7.87846             11.4437  \n",
       "LLR                     0.024206            0.024206  \n",
       "pval                    0.876362            0.876362  \n",
       "qval                           0                   0  "
      ]
     },
     "execution_count": 8,
     "metadata": {},
     "output_type": "execute_result"
    }
   ],
   "source": [
    "results.head().T"
   ]
  },
  {
   "cell_type": "code",
   "execution_count": 9,
   "metadata": {},
   "outputs": [
    {
     "data": {
      "text/html": [
       "<div>\n",
       "<style scoped>\n",
       "    .dataframe tbody tr th:only-of-type {\n",
       "        vertical-align: middle;\n",
       "    }\n",
       "\n",
       "    .dataframe tbody tr th {\n",
       "        vertical-align: top;\n",
       "    }\n",
       "\n",
       "    .dataframe thead th {\n",
       "        text-align: right;\n",
       "    }\n",
       "</style>\n",
       "<table border=\"1\" class=\"dataframe\">\n",
       "  <thead>\n",
       "    <tr style=\"text-align: right;\">\n",
       "      <th></th>\n",
       "      <th>g</th>\n",
       "      <th>l</th>\n",
       "      <th>pval</th>\n",
       "      <th>qval</th>\n",
       "    </tr>\n",
       "  </thead>\n",
       "  <tbody>\n",
       "    <tr>\n",
       "      <td>0</td>\n",
       "      <td>ENSMUSG00000032186</td>\n",
       "      <td>0.465108</td>\n",
       "      <td>0.876362</td>\n",
       "      <td>0.0</td>\n",
       "    </tr>\n",
       "    <tr>\n",
       "      <td>3031</td>\n",
       "      <td>ENSMUSG00000117924</td>\n",
       "      <td>0.465108</td>\n",
       "      <td>0.876362</td>\n",
       "      <td>0.0</td>\n",
       "    </tr>\n",
       "    <tr>\n",
       "      <td>3032</td>\n",
       "      <td>ENSMUSG00000000290</td>\n",
       "      <td>0.465108</td>\n",
       "      <td>0.876362</td>\n",
       "      <td>0.0</td>\n",
       "    </tr>\n",
       "    <tr>\n",
       "      <td>3033</td>\n",
       "      <td>ENSMUSG00000022892</td>\n",
       "      <td>0.465108</td>\n",
       "      <td>0.876362</td>\n",
       "      <td>0.0</td>\n",
       "    </tr>\n",
       "    <tr>\n",
       "      <td>3034</td>\n",
       "      <td>ENSMUSG00000025978</td>\n",
       "      <td>0.465108</td>\n",
       "      <td>0.876362</td>\n",
       "      <td>0.0</td>\n",
       "    </tr>\n",
       "  </tbody>\n",
       "</table>\n",
       "</div>"
      ],
      "text/plain": [
       "                       g         l      pval  qval\n",
       "0     ENSMUSG00000032186  0.465108  0.876362   0.0\n",
       "3031  ENSMUSG00000117924  0.465108  0.876362   0.0\n",
       "3032  ENSMUSG00000000290  0.465108  0.876362   0.0\n",
       "3033  ENSMUSG00000022892  0.465108  0.876362   0.0\n",
       "3034  ENSMUSG00000025978  0.465108  0.876362   0.0"
      ]
     },
     "execution_count": 9,
     "metadata": {},
     "output_type": "execute_result"
    }
   ],
   "source": [
    "results.sort_values('qval').head(5)[['g', 'l', 'pval','qval']]"
   ]
  },
  {
   "cell_type": "code",
   "execution_count": 11,
   "metadata": {},
   "outputs": [
    {
     "data": {
      "image/png": "[encoded data removed]",
      "text/plain": [
       "<Figure size 720x216 with 6 Axes>"
      ]
     },
     "metadata": {
      "needs_background": "light"
     },
     "output_type": "display_data"
    }
   ],
   "source": [
    "figsize(10, 3)\n",
    "for i, g in enumerate(['ENSMUSG00000032186', 'ENSMUSG00000117924', 'ENSMUSG00000000290']):\n",
    "    plt.subplot(1, 3, i + 1)\n",
    "    plt.scatter(sample_info['x'], sample_info['y'], c=norm_expr[g]);\n",
    "    plt.title(g)\n",
    "    plt.axis('equal')\n",
    "\n",
    "\n",
    "    plt.colorbar(ticks=[]);"
   ]
  },
  {
   "cell_type": "code",
   "execution_count": 12,
   "metadata": {},
   "outputs": [
    {
     "data": {
      "text/html": [
       "<div>\n",
       "<style scoped>\n",
       "    .dataframe tbody tr th:only-of-type {\n",
       "        vertical-align: middle;\n",
       "    }\n",
       "\n",
       "    .dataframe tbody tr th {\n",
       "        vertical-align: top;\n",
       "    }\n",
       "\n",
       "    .dataframe thead th {\n",
       "        text-align: right;\n",
       "    }\n",
       "</style>\n",
       "<table border=\"1\" class=\"dataframe\">\n",
       "  <thead>\n",
       "    <tr style=\"text-align: right;\">\n",
       "      <th></th>\n",
       "      <th>g</th>\n",
       "      <th>l</th>\n",
       "      <th>qval</th>\n",
       "    </tr>\n",
       "  </thead>\n",
       "  <tbody>\n",
       "    <tr>\n",
       "      <td>1513</td>\n",
       "      <td>ENSMUSG00000012405</td>\n",
       "      <td>0.465108</td>\n",
       "      <td>0.0</td>\n",
       "    </tr>\n",
       "    <tr>\n",
       "      <td>1522</td>\n",
       "      <td>ENSMUSG00000001158</td>\n",
       "      <td>0.465108</td>\n",
       "      <td>0.0</td>\n",
       "    </tr>\n",
       "    <tr>\n",
       "      <td>1520</td>\n",
       "      <td>ENSMUSG00000004980</td>\n",
       "      <td>0.465108</td>\n",
       "      <td>0.0</td>\n",
       "    </tr>\n",
       "    <tr>\n",
       "      <td>1519</td>\n",
       "      <td>ENSMUSG00000024248</td>\n",
       "      <td>0.465108</td>\n",
       "      <td>0.0</td>\n",
       "    </tr>\n",
       "    <tr>\n",
       "      <td>1518</td>\n",
       "      <td>ENSMUSG00000056486</td>\n",
       "      <td>0.465108</td>\n",
       "      <td>0.0</td>\n",
       "    </tr>\n",
       "    <tr>\n",
       "      <td>1517</td>\n",
       "      <td>ENSMUSG00000047139</td>\n",
       "      <td>0.465108</td>\n",
       "      <td>0.0</td>\n",
       "    </tr>\n",
       "    <tr>\n",
       "      <td>1516</td>\n",
       "      <td>ENSMUSG00000021701</td>\n",
       "      <td>0.465108</td>\n",
       "      <td>0.0</td>\n",
       "    </tr>\n",
       "    <tr>\n",
       "      <td>1515</td>\n",
       "      <td>__ambiguous[ENSMUSG00000042289+ENSMUSG00000108...</td>\n",
       "      <td>0.465108</td>\n",
       "      <td>0.0</td>\n",
       "    </tr>\n",
       "    <tr>\n",
       "      <td>1521</td>\n",
       "      <td>ENSMUSG00000074781</td>\n",
       "      <td>0.465108</td>\n",
       "      <td>0.0</td>\n",
       "    </tr>\n",
       "    <tr>\n",
       "      <td>4559</td>\n",
       "      <td>ENSMUSG00000033208</td>\n",
       "      <td>3.351823</td>\n",
       "      <td>0.0</td>\n",
       "    </tr>\n",
       "  </tbody>\n",
       "</table>\n",
       "</div>"
      ],
      "text/plain": [
       "                                                      g         l  qval\n",
       "1513                                 ENSMUSG00000012405  0.465108   0.0\n",
       "1522                                 ENSMUSG00000001158  0.465108   0.0\n",
       "1520                                 ENSMUSG00000004980  0.465108   0.0\n",
       "1519                                 ENSMUSG00000024248  0.465108   0.0\n",
       "1518                                 ENSMUSG00000056486  0.465108   0.0\n",
       "1517                                 ENSMUSG00000047139  0.465108   0.0\n",
       "1516                                 ENSMUSG00000021701  0.465108   0.0\n",
       "1515  __ambiguous[ENSMUSG00000042289+ENSMUSG00000108...  0.465108   0.0\n",
       "1521                                 ENSMUSG00000074781  0.465108   0.0\n",
       "4559                                 ENSMUSG00000033208  3.351823   0.0"
      ]
     },
     "execution_count": 12,
     "metadata": {},
     "output_type": "execute_result"
    }
   ],
   "source": [
    "results.sort_values('qval').tail(10)[['g', 'l', 'qval']]"
   ]
  },
  {
   "cell_type": "code",
   "execution_count": 13,
   "metadata": {},
   "outputs": [
    {
     "data": {
      "image/png": "[encoded data removed]",
      "text/plain": [
       "<Figure size 720x216 with 6 Axes>"
      ]
     },
     "metadata": {
      "needs_background": "light"
     },
     "output_type": "display_data"
    }
   ],
   "source": [
    "figsize(10, 3)\n",
    "for i, g in enumerate(['ENSMUSG00000012405', 'ENSMUSG00000001158', 'ENSMUSG00000004980']):\n",
    "    plt.subplot(1, 3, i + 1)\n",
    "    plt.scatter(sample_info['x'], sample_info['y'], c=norm_expr[g]);\n",
    "    plt.title(g)\n",
    "    plt.axis('equal')\n",
    "\n",
    "\n",
    "    plt.colorbar(ticks=[]);"
   ]
  },
  {
   "cell_type": "code",
   "execution_count": 14,
   "metadata": {},
   "outputs": [
    {
     "name": "stderr",
     "output_type": "stream",
     "text": [
      "C:\\Users\\uqjxu8\\AppData\\Local\\Continuum\\anaconda3\\lib\\site-packages\\ipykernel_launcher.py:4: UserWarning: Data has no positive values, and therefore cannot be log-scaled.\n",
      "  after removing the cwd from sys.path.\n"
     ]
    },
    {
     "data": {
      "image/png": "[encoded data removed]",
      "text/plain": [
       "<Figure size 360x288 with 1 Axes>"
      ]
     },
     "metadata": {
      "needs_background": "light"
     },
     "output_type": "display_data"
    }
   ],
   "source": [
    "figsize(5, 4)\n",
    "plt.yscale('log')\n",
    "\n",
    "plt.scatter(results['FSV'], results['qval'], c='black')\n",
    "\n",
    "plt.axhline(0.05, c='black', lw=1, ls='--');\n",
    "\n",
    "plt.gca().invert_yaxis();\n",
    "plt.xlabel('Fraction spatial variance')\n",
    "plt.ylabel('Adj. P-value');"
   ]
  }
 ],
 "metadata": {
  "kernelspec": {
   "display_name": "Python 3",
   "language": "python",
   "name": "python3"
  },
  "language_info": {
   "codemirror_mode": {
    "name": "ipython",
    "version": 3
   },
   "file_extension": ".py",
   "mimetype": "text/x-python",
   "name": "python",
   "nbconvert_exporter": "python",
   "pygments_lexer": "ipython3",
   "version": "3.7.4"
  }
 },
 "nbformat": 4,
 "nbformat_minor": 2
}
