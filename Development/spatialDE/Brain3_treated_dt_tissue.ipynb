{
 "cells": [
  {
   "cell_type": "code",
   "execution_count": 1,
   "metadata": {},
   "outputs": [
    {
     "name": "stdout",
     "output_type": "stream",
     "text": [
      "Populating the interactive namespace from numpy and matplotlib\n"
     ]
    }
   ],
   "source": [
    "%pylab inline\n",
    "import pandas as pd\n",
    "\n",
    "rcParams['axes.spines.right'] = False\n",
    "rcParams['axes.spines.top'] = False\n",
    "\n",
    "import NaiveDE\n",
    "import SpatialDE"
   ]
  },
  {
   "cell_type": "code",
   "execution_count": 2,
   "metadata": {},
   "outputs": [
    {
     "name": "stdout",
     "output_type": "stream",
     "text": [
      "(17, 4822)\n"
     ]
    },
    {
     "data": {
      "text/html": [
       "<div>\n",
       "<style scoped>\n",
       "    .dataframe tbody tr th:only-of-type {\n",
       "        vertical-align: middle;\n",
       "    }\n",
       "\n",
       "    .dataframe tbody tr th {\n",
       "        vertical-align: top;\n",
       "    }\n",
       "\n",
       "    .dataframe thead th {\n",
       "        text-align: right;\n",
       "    }\n",
       "</style>\n",
       "<table border=\"1\" class=\"dataframe\">\n",
       "  <thead>\n",
       "    <tr style=\"text-align: right;\">\n",
       "      <th></th>\n",
       "      <th>ENSMUSG00000033845</th>\n",
       "      <th>ENSMUSG00000033813</th>\n",
       "      <th>ENSMUSG00000033793</th>\n",
       "      <th>ENSMUSG00000102135</th>\n",
       "      <th>ENSMUSG00000051285</th>\n",
       "    </tr>\n",
       "  </thead>\n",
       "  <tbody>\n",
       "    <tr>\n",
       "      <td>19.09x18.08</td>\n",
       "      <td>0.0</td>\n",
       "      <td>0.0</td>\n",
       "      <td>0.0</td>\n",
       "      <td>0.0</td>\n",
       "      <td>0.0</td>\n",
       "    </tr>\n",
       "    <tr>\n",
       "      <td>19.02x19.14</td>\n",
       "      <td>0.0</td>\n",
       "      <td>0.0</td>\n",
       "      <td>0.0</td>\n",
       "      <td>0.0</td>\n",
       "      <td>0.0</td>\n",
       "    </tr>\n",
       "    <tr>\n",
       "      <td>19.02x20.09</td>\n",
       "      <td>0.0</td>\n",
       "      <td>0.0</td>\n",
       "      <td>1.0</td>\n",
       "      <td>0.0</td>\n",
       "      <td>1.0</td>\n",
       "    </tr>\n",
       "    <tr>\n",
       "      <td>20.03x18.12</td>\n",
       "      <td>0.0</td>\n",
       "      <td>0.0</td>\n",
       "      <td>4.0</td>\n",
       "      <td>0.0</td>\n",
       "      <td>0.0</td>\n",
       "    </tr>\n",
       "    <tr>\n",
       "      <td>20.03x19.14</td>\n",
       "      <td>0.0</td>\n",
       "      <td>0.0</td>\n",
       "      <td>0.0</td>\n",
       "      <td>0.0</td>\n",
       "      <td>0.0</td>\n",
       "    </tr>\n",
       "  </tbody>\n",
       "</table>\n",
       "</div>"
      ],
      "text/plain": [
       "             ENSMUSG00000033845  ENSMUSG00000033813  ENSMUSG00000033793  \\\n",
       "19.09x18.08                 0.0                 0.0                 0.0   \n",
       "19.02x19.14                 0.0                 0.0                 0.0   \n",
       "19.02x20.09                 0.0                 0.0                 1.0   \n",
       "20.03x18.12                 0.0                 0.0                 4.0   \n",
       "20.03x19.14                 0.0                 0.0                 0.0   \n",
       "\n",
       "             ENSMUSG00000102135  ENSMUSG00000051285  \n",
       "19.09x18.08                 0.0                 0.0  \n",
       "19.02x19.14                 0.0                 0.0  \n",
       "19.02x20.09                 0.0                 1.0  \n",
       "20.03x18.12                 0.0                 0.0  \n",
       "20.03x19.14                 0.0                 0.0  "
      ]
     },
     "execution_count": 2,
     "metadata": {},
     "output_type": "execute_result"
    }
   ],
   "source": [
    "counts = pd.read_csv('Data/Brain3_treated_dt_tissue.tsv', sep='\\t',index_col=0)\n",
    "counts = counts.T[counts.sum(0) >= 3].T  # Filter practically unobserved genes\n",
    "print(counts.shape)\n",
    "counts.iloc[:5, :5]"
   ]
  },
  {
   "cell_type": "code",
   "execution_count": 3,
   "metadata": {},
   "outputs": [
    {
     "data": {
      "text/html": [
       "<div>\n",
       "<style scoped>\n",
       "    .dataframe tbody tr th:only-of-type {\n",
       "        vertical-align: middle;\n",
       "    }\n",
       "\n",
       "    .dataframe tbody tr th {\n",
       "        vertical-align: top;\n",
       "    }\n",
       "\n",
       "    .dataframe thead th {\n",
       "        text-align: right;\n",
       "    }\n",
       "</style>\n",
       "<table border=\"1\" class=\"dataframe\">\n",
       "  <thead>\n",
       "    <tr style=\"text-align: right;\">\n",
       "      <th></th>\n",
       "      <th>x</th>\n",
       "      <th>y</th>\n",
       "      <th>total_counts</th>\n",
       "    </tr>\n",
       "  </thead>\n",
       "  <tbody>\n",
       "    <tr>\n",
       "      <td>19.09x18.08</td>\n",
       "      <td>19.09</td>\n",
       "      <td>18.08</td>\n",
       "      <td>1611.0</td>\n",
       "    </tr>\n",
       "    <tr>\n",
       "      <td>19.02x19.14</td>\n",
       "      <td>19.02</td>\n",
       "      <td>19.14</td>\n",
       "      <td>3148.0</td>\n",
       "    </tr>\n",
       "    <tr>\n",
       "      <td>19.02x20.09</td>\n",
       "      <td>19.02</td>\n",
       "      <td>20.09</td>\n",
       "      <td>5537.0</td>\n",
       "    </tr>\n",
       "    <tr>\n",
       "      <td>20.03x18.12</td>\n",
       "      <td>20.03</td>\n",
       "      <td>18.12</td>\n",
       "      <td>2266.0</td>\n",
       "    </tr>\n",
       "    <tr>\n",
       "      <td>20.03x19.14</td>\n",
       "      <td>20.03</td>\n",
       "      <td>19.14</td>\n",
       "      <td>2598.0</td>\n",
       "    </tr>\n",
       "  </tbody>\n",
       "</table>\n",
       "</div>"
      ],
      "text/plain": [
       "                 x      y  total_counts\n",
       "19.09x18.08  19.09  18.08        1611.0\n",
       "19.02x19.14  19.02  19.14        3148.0\n",
       "19.02x20.09  19.02  20.09        5537.0\n",
       "20.03x18.12  20.03  18.12        2266.0\n",
       "20.03x19.14  20.03  19.14        2598.0"
      ]
     },
     "execution_count": 3,
     "metadata": {},
     "output_type": "execute_result"
    }
   ],
   "source": [
    "sample_info = pd.DataFrame(0, index = counts.index, columns = ['x','y','total_counts'])\n",
    "sample_info.loc[:,'x'] = [float(item.split('x')[0]) for item in sample_info.index]\n",
    "sample_info.loc[:,'y'] = [float(item.split('x')[1]) for item in sample_info.index]\n",
    "sample_info.loc[:,'total_counts'] = counts.sum(axis=1)\n",
    "sample_info.head(5)"
   ]
  },
  {
   "cell_type": "code",
   "execution_count": 4,
   "metadata": {},
   "outputs": [
    {
     "data": {
      "image/png": "[encoded data removed]",
      "text/plain": [
       "<Figure size 432x288 with 1 Axes>"
      ]
     },
     "metadata": {
      "needs_background": "light"
     },
     "output_type": "display_data"
    }
   ],
   "source": [
    "figsize(6, 4)\n",
    "plt.scatter(sample_info['x'], sample_info['y'], c='k');\n",
    "plt.axis('equal');"
   ]
  },
  {
   "cell_type": "code",
   "execution_count": 5,
   "metadata": {},
   "outputs": [],
   "source": [
    "norm_expr = NaiveDE.stabilize(counts.T).T\n",
    "resid_expr = NaiveDE.regress_out(sample_info, norm_expr.T, 'np.log(total_counts)').T"
   ]
  },
  {
   "cell_type": "code",
   "execution_count": 6,
   "metadata": {},
   "outputs": [
    {
     "data": {
      "application/vnd.jupyter.widget-view+json": {
       "model_id": "59c57d59ca364f5fb887f0d040df240c",
       "version_major": 2,
       "version_minor": 0
      },
      "text/plain": [
       "HBox(children=(IntProgress(value=0, description='Models: ', max=10, style=ProgressStyle(description_width='ini…"
      ]
     },
     "metadata": {},
     "output_type": "display_data"
    },
    {
     "data": {
      "application/vnd.jupyter.widget-view+json": {
       "model_id": "",
       "version_major": 2,
       "version_minor": 0
      },
      "text/plain": [
       "HBox(children=(IntProgress(value=0, max=4822), HTML(value='')))"
      ]
     },
     "metadata": {},
     "output_type": "display_data"
    },
    {
     "data": {
      "application/vnd.jupyter.widget-view+json": {
       "model_id": "",
       "version_major": 2,
       "version_minor": 0
      },
      "text/plain": [
       "HBox(children=(IntProgress(value=0, max=4822), HTML(value='')))"
      ]
     },
     "metadata": {},
     "output_type": "display_data"
    },
    {
     "data": {
      "application/vnd.jupyter.widget-view+json": {
       "model_id": "",
       "version_major": 2,
       "version_minor": 0
      },
      "text/plain": [
       "HBox(children=(IntProgress(value=0, max=4822), HTML(value='')))"
      ]
     },
     "metadata": {},
     "output_type": "display_data"
    },
    {
     "data": {
      "application/vnd.jupyter.widget-view+json": {
       "model_id": "",
       "version_major": 2,
       "version_minor": 0
      },
      "text/plain": [
       "HBox(children=(IntProgress(value=0, max=4822), HTML(value='')))"
      ]
     },
     "metadata": {},
     "output_type": "display_data"
    },
    {
     "data": {
      "application/vnd.jupyter.widget-view+json": {
       "model_id": "",
       "version_major": 2,
       "version_minor": 0
      },
      "text/plain": [
       "HBox(children=(IntProgress(value=0, max=4822), HTML(value='')))"
      ]
     },
     "metadata": {},
     "output_type": "display_data"
    },
    {
     "data": {
      "application/vnd.jupyter.widget-view+json": {
       "model_id": "",
       "version_major": 2,
       "version_minor": 0
      },
      "text/plain": [
       "HBox(children=(IntProgress(value=0, max=4822), HTML(value='')))"
      ]
     },
     "metadata": {},
     "output_type": "display_data"
    },
    {
     "data": {
      "application/vnd.jupyter.widget-view+json": {
       "model_id": "",
       "version_major": 2,
       "version_minor": 0
      },
      "text/plain": [
       "HBox(children=(IntProgress(value=0, max=4822), HTML(value='')))"
      ]
     },
     "metadata": {},
     "output_type": "display_data"
    },
    {
     "data": {
      "application/vnd.jupyter.widget-view+json": {
       "model_id": "",
       "version_major": 2,
       "version_minor": 0
      },
      "text/plain": [
       "HBox(children=(IntProgress(value=0, max=4822), HTML(value='')))"
      ]
     },
     "metadata": {},
     "output_type": "display_data"
    },
    {
     "data": {
      "application/vnd.jupyter.widget-view+json": {
       "model_id": "",
       "version_major": 2,
       "version_minor": 0
      },
      "text/plain": [
       "HBox(children=(IntProgress(value=0, max=4822), HTML(value='')))"
      ]
     },
     "metadata": {},
     "output_type": "display_data"
    },
    {
     "data": {
      "application/vnd.jupyter.widget-view+json": {
       "model_id": "",
       "version_major": 2,
       "version_minor": 0
      },
      "text/plain": [
       "HBox(children=(IntProgress(value=0, max=4822), HTML(value='')))"
      ]
     },
     "metadata": {},
     "output_type": "display_data"
    },
    {
     "name": "stdout",
     "output_type": "stream",
     "text": [
      "\n"
     ]
    }
   ],
   "source": [
    "sample_resid_expr = resid_expr.sample(n=len(counts.columns), axis=1, random_state=1)\n",
    "\n",
    "X = sample_info[['x', 'y']]\n",
    "sample_resid_expr.head()\n",
    "results = SpatialDE.run(X, sample_resid_expr)"
   ]
  },
  {
   "cell_type": "code",
   "execution_count": 7,
   "metadata": {},
   "outputs": [
    {
     "data": {
      "text/html": [
       "<div>\n",
       "<style scoped>\n",
       "    .dataframe tbody tr th:only-of-type {\n",
       "        vertical-align: middle;\n",
       "    }\n",
       "\n",
       "    .dataframe tbody tr th {\n",
       "        vertical-align: top;\n",
       "    }\n",
       "\n",
       "    .dataframe thead th {\n",
       "        text-align: right;\n",
       "    }\n",
       "</style>\n",
       "<table border=\"1\" class=\"dataframe\">\n",
       "  <thead>\n",
       "    <tr style=\"text-align: right;\">\n",
       "      <th></th>\n",
       "      <th>0</th>\n",
       "      <th>1</th>\n",
       "      <th>2</th>\n",
       "      <th>3</th>\n",
       "      <th>4</th>\n",
       "    </tr>\n",
       "  </thead>\n",
       "  <tbody>\n",
       "    <tr>\n",
       "      <td>FSV</td>\n",
       "      <td>2.02567e-09</td>\n",
       "      <td>0.999954</td>\n",
       "      <td>2.02567e-09</td>\n",
       "      <td>2.02567e-09</td>\n",
       "      <td>2.02567e-09</td>\n",
       "    </tr>\n",
       "    <tr>\n",
       "      <td>M</td>\n",
       "      <td>4</td>\n",
       "      <td>4</td>\n",
       "      <td>4</td>\n",
       "      <td>4</td>\n",
       "      <td>4</td>\n",
       "    </tr>\n",
       "    <tr>\n",
       "      <td>g</td>\n",
       "      <td>ENSMUSG00000017670</td>\n",
       "      <td>ENSMUSG00000032802</td>\n",
       "      <td>ENSMUSG00000030754</td>\n",
       "      <td>ENSMUSG00000040433</td>\n",
       "      <td>ENSMUSG00000038370</td>\n",
       "    </tr>\n",
       "    <tr>\n",
       "      <td>l</td>\n",
       "      <td>0.445</td>\n",
       "      <td>0.445</td>\n",
       "      <td>0.445</td>\n",
       "      <td>0.445</td>\n",
       "      <td>0.445</td>\n",
       "    </tr>\n",
       "    <tr>\n",
       "      <td>max_delta</td>\n",
       "      <td>4.85165e+08</td>\n",
       "      <td>4.53999e-05</td>\n",
       "      <td>4.85165e+08</td>\n",
       "      <td>4.85165e+08</td>\n",
       "      <td>4.85165e+08</td>\n",
       "    </tr>\n",
       "    <tr>\n",
       "      <td>max_ll</td>\n",
       "      <td>23.659</td>\n",
       "      <td>15.0006</td>\n",
       "      <td>18.6804</td>\n",
       "      <td>24.1794</td>\n",
       "      <td>24.156</td>\n",
       "    </tr>\n",
       "    <tr>\n",
       "      <td>max_mu_hat</td>\n",
       "      <td>1.74327</td>\n",
       "      <td>1.24176</td>\n",
       "      <td>1.47589</td>\n",
       "      <td>1.48105</td>\n",
       "      <td>1.48777</td>\n",
       "    </tr>\n",
       "    <tr>\n",
       "      <td>max_s2_t_hat</td>\n",
       "      <td>6.27132e-09</td>\n",
       "      <td>1.22478</td>\n",
       "      <td>4.50312e-09</td>\n",
       "      <td>4.52817e-09</td>\n",
       "      <td>4.56931e-09</td>\n",
       "    </tr>\n",
       "    <tr>\n",
       "      <td>model</td>\n",
       "      <td>SE</td>\n",
       "      <td>SE</td>\n",
       "      <td>SE</td>\n",
       "      <td>SE</td>\n",
       "      <td>SE</td>\n",
       "    </tr>\n",
       "    <tr>\n",
       "      <td>n</td>\n",
       "      <td>17</td>\n",
       "      <td>17</td>\n",
       "      <td>17</td>\n",
       "      <td>17</td>\n",
       "      <td>17</td>\n",
       "    </tr>\n",
       "    <tr>\n",
       "      <td>s2_FSV</td>\n",
       "      <td>3.04153</td>\n",
       "      <td>333.553</td>\n",
       "      <td>13.3921</td>\n",
       "      <td>2.66736</td>\n",
       "      <td>5.73289</td>\n",
       "    </tr>\n",
       "    <tr>\n",
       "      <td>s2_logdelta</td>\n",
       "      <td>5.36696e+17</td>\n",
       "      <td>1.13207e+11</td>\n",
       "      <td>2.36311e+18</td>\n",
       "      <td>4.70673e+17</td>\n",
       "      <td>1.0116e+18</td>\n",
       "    </tr>\n",
       "    <tr>\n",
       "      <td>time</td>\n",
       "      <td>0</td>\n",
       "      <td>0</td>\n",
       "      <td>0.00101781</td>\n",
       "      <td>0.000975847</td>\n",
       "      <td>0.000996828</td>\n",
       "    </tr>\n",
       "    <tr>\n",
       "      <td>BIC</td>\n",
       "      <td>-35.9851</td>\n",
       "      <td>-18.6683</td>\n",
       "      <td>-26.028</td>\n",
       "      <td>-37.0259</td>\n",
       "      <td>-36.9791</td>\n",
       "    </tr>\n",
       "    <tr>\n",
       "      <td>max_ll_null</td>\n",
       "      <td>23.6436</td>\n",
       "      <td>14.9164</td>\n",
       "      <td>18.6651</td>\n",
       "      <td>24.1641</td>\n",
       "      <td>24.1407</td>\n",
       "    </tr>\n",
       "    <tr>\n",
       "      <td>LLR</td>\n",
       "      <td>0.0153093</td>\n",
       "      <td>0.0841382</td>\n",
       "      <td>0.0153093</td>\n",
       "      <td>0.0153093</td>\n",
       "      <td>0.0153093</td>\n",
       "    </tr>\n",
       "    <tr>\n",
       "      <td>pval</td>\n",
       "      <td>0.901529</td>\n",
       "      <td>0.771766</td>\n",
       "      <td>0.901529</td>\n",
       "      <td>0.901529</td>\n",
       "      <td>0.901529</td>\n",
       "    </tr>\n",
       "    <tr>\n",
       "      <td>qval</td>\n",
       "      <td>0.901529</td>\n",
       "      <td>0.901529</td>\n",
       "      <td>0.901529</td>\n",
       "      <td>0.901529</td>\n",
       "      <td>0.901529</td>\n",
       "    </tr>\n",
       "  </tbody>\n",
       "</table>\n",
       "</div>"
      ],
      "text/plain": [
       "                               0                   1                   2  \\\n",
       "FSV                  2.02567e-09            0.999954         2.02567e-09   \n",
       "M                              4                   4                   4   \n",
       "g             ENSMUSG00000017670  ENSMUSG00000032802  ENSMUSG00000030754   \n",
       "l                          0.445               0.445               0.445   \n",
       "max_delta            4.85165e+08         4.53999e-05         4.85165e+08   \n",
       "max_ll                    23.659             15.0006             18.6804   \n",
       "max_mu_hat               1.74327             1.24176             1.47589   \n",
       "max_s2_t_hat         6.27132e-09             1.22478         4.50312e-09   \n",
       "model                         SE                  SE                  SE   \n",
       "n                             17                  17                  17   \n",
       "s2_FSV                   3.04153             333.553             13.3921   \n",
       "s2_logdelta          5.36696e+17         1.13207e+11         2.36311e+18   \n",
       "time                           0                   0          0.00101781   \n",
       "BIC                     -35.9851            -18.6683             -26.028   \n",
       "max_ll_null              23.6436             14.9164             18.6651   \n",
       "LLR                    0.0153093           0.0841382           0.0153093   \n",
       "pval                    0.901529            0.771766            0.901529   \n",
       "qval                    0.901529            0.901529            0.901529   \n",
       "\n",
       "                               3                   4  \n",
       "FSV                  2.02567e-09         2.02567e-09  \n",
       "M                              4                   4  \n",
       "g             ENSMUSG00000040433  ENSMUSG00000038370  \n",
       "l                          0.445               0.445  \n",
       "max_delta            4.85165e+08         4.85165e+08  \n",
       "max_ll                   24.1794              24.156  \n",
       "max_mu_hat               1.48105             1.48777  \n",
       "max_s2_t_hat         4.52817e-09         4.56931e-09  \n",
       "model                         SE                  SE  \n",
       "n                             17                  17  \n",
       "s2_FSV                   2.66736             5.73289  \n",
       "s2_logdelta          4.70673e+17          1.0116e+18  \n",
       "time                 0.000975847         0.000996828  \n",
       "BIC                     -37.0259            -36.9791  \n",
       "max_ll_null              24.1641             24.1407  \n",
       "LLR                    0.0153093           0.0153093  \n",
       "pval                    0.901529            0.901529  \n",
       "qval                    0.901529            0.901529  "
      ]
     },
     "execution_count": 7,
     "metadata": {},
     "output_type": "execute_result"
    }
   ],
   "source": [
    "results.head().T"
   ]
  },
  {
   "cell_type": "code",
   "execution_count": 8,
   "metadata": {},
   "outputs": [
    {
     "data": {
      "text/html": [
       "<div>\n",
       "<style scoped>\n",
       "    .dataframe tbody tr th:only-of-type {\n",
       "        vertical-align: middle;\n",
       "    }\n",
       "\n",
       "    .dataframe tbody tr th {\n",
       "        vertical-align: top;\n",
       "    }\n",
       "\n",
       "    .dataframe thead th {\n",
       "        text-align: right;\n",
       "    }\n",
       "</style>\n",
       "<table border=\"1\" class=\"dataframe\">\n",
       "  <thead>\n",
       "    <tr style=\"text-align: right;\">\n",
       "      <th></th>\n",
       "      <th>g</th>\n",
       "      <th>l</th>\n",
       "      <th>pval</th>\n",
       "      <th>qval</th>\n",
       "    </tr>\n",
       "  </thead>\n",
       "  <tbody>\n",
       "    <tr>\n",
       "      <td>0</td>\n",
       "      <td>ENSMUSG00000017670</td>\n",
       "      <td>0.445</td>\n",
       "      <td>0.901529</td>\n",
       "      <td>0.901529</td>\n",
       "    </tr>\n",
       "    <tr>\n",
       "      <td>3218</td>\n",
       "      <td>ENSMUSG00000029309</td>\n",
       "      <td>0.445</td>\n",
       "      <td>0.901529</td>\n",
       "      <td>0.901529</td>\n",
       "    </tr>\n",
       "    <tr>\n",
       "      <td>3217</td>\n",
       "      <td>ENSMUSG00000030447</td>\n",
       "      <td>0.445</td>\n",
       "      <td>0.901529</td>\n",
       "      <td>0.901529</td>\n",
       "    </tr>\n",
       "    <tr>\n",
       "      <td>3216</td>\n",
       "      <td>ENSMUSG00000024639</td>\n",
       "      <td>0.445</td>\n",
       "      <td>0.901529</td>\n",
       "      <td>0.901529</td>\n",
       "    </tr>\n",
       "    <tr>\n",
       "      <td>3215</td>\n",
       "      <td>ENSMUSG00000030207</td>\n",
       "      <td>0.445</td>\n",
       "      <td>0.901529</td>\n",
       "      <td>0.901529</td>\n",
       "    </tr>\n",
       "  </tbody>\n",
       "</table>\n",
       "</div>"
      ],
      "text/plain": [
       "                       g      l      pval      qval\n",
       "0     ENSMUSG00000017670  0.445  0.901529  0.901529\n",
       "3218  ENSMUSG00000029309  0.445  0.901529  0.901529\n",
       "3217  ENSMUSG00000030447  0.445  0.901529  0.901529\n",
       "3216  ENSMUSG00000024639  0.445  0.901529  0.901529\n",
       "3215  ENSMUSG00000030207  0.445  0.901529  0.901529"
      ]
     },
     "execution_count": 8,
     "metadata": {},
     "output_type": "execute_result"
    }
   ],
   "source": [
    "results.sort_values('qval').head(5)[['g', 'l', 'pval','qval']]"
   ]
  },
  {
   "cell_type": "code",
   "execution_count": 9,
   "metadata": {},
   "outputs": [
    {
     "data": {
      "image/png": "[encoded data removed]",
      "text/plain": [
       "<Figure size 720x216 with 6 Axes>"
      ]
     },
     "metadata": {
      "needs_background": "light"
     },
     "output_type": "display_data"
    }
   ],
   "source": [
    "figsize(10, 3)\n",
    "for i, g in enumerate(['ENSMUSG00000017670', 'ENSMUSG00000017670', 'ENSMUSG00000030447']):\n",
    "    plt.subplot(1, 3, i + 1)\n",
    "    plt.scatter(sample_info['x'], sample_info['y'], c=norm_expr[g]);\n",
    "    plt.title(g)\n",
    "    plt.axis('equal')\n",
    "\n",
    "\n",
    "    plt.colorbar(ticks=[]);"
   ]
  },
  {
   "cell_type": "code",
   "execution_count": 10,
   "metadata": {},
   "outputs": [
    {
     "data": {
      "text/html": [
       "<div>\n",
       "<style scoped>\n",
       "    .dataframe tbody tr th:only-of-type {\n",
       "        vertical-align: middle;\n",
       "    }\n",
       "\n",
       "    .dataframe tbody tr th {\n",
       "        vertical-align: top;\n",
       "    }\n",
       "\n",
       "    .dataframe thead th {\n",
       "        text-align: right;\n",
       "    }\n",
       "</style>\n",
       "<table border=\"1\" class=\"dataframe\">\n",
       "  <thead>\n",
       "    <tr style=\"text-align: right;\">\n",
       "      <th></th>\n",
       "      <th>g</th>\n",
       "      <th>l</th>\n",
       "      <th>qval</th>\n",
       "    </tr>\n",
       "  </thead>\n",
       "  <tbody>\n",
       "    <tr>\n",
       "      <td>1609</td>\n",
       "      <td>ENSMUSG00000066392</td>\n",
       "      <td>0.445000</td>\n",
       "      <td>0.901529</td>\n",
       "    </tr>\n",
       "    <tr>\n",
       "      <td>1608</td>\n",
       "      <td>ENSMUSG00000049612</td>\n",
       "      <td>0.445000</td>\n",
       "      <td>0.901529</td>\n",
       "    </tr>\n",
       "    <tr>\n",
       "      <td>1607</td>\n",
       "      <td>ENSMUSG00000046834</td>\n",
       "      <td>0.445000</td>\n",
       "      <td>0.901529</td>\n",
       "    </tr>\n",
       "    <tr>\n",
       "      <td>1606</td>\n",
       "      <td>ENSMUSG00000074797</td>\n",
       "      <td>0.445000</td>\n",
       "      <td>0.901529</td>\n",
       "    </tr>\n",
       "    <tr>\n",
       "      <td>1605</td>\n",
       "      <td>ENSMUSG00000039716</td>\n",
       "      <td>0.445000</td>\n",
       "      <td>0.901529</td>\n",
       "    </tr>\n",
       "    <tr>\n",
       "      <td>1604</td>\n",
       "      <td>ENSMUSG00000060198</td>\n",
       "      <td>0.445000</td>\n",
       "      <td>0.901529</td>\n",
       "    </tr>\n",
       "    <tr>\n",
       "      <td>1603</td>\n",
       "      <td>ENSMUSG00000040747</td>\n",
       "      <td>0.445000</td>\n",
       "      <td>0.901529</td>\n",
       "    </tr>\n",
       "    <tr>\n",
       "      <td>1602</td>\n",
       "      <td>ENSMUSG00000052512</td>\n",
       "      <td>0.445000</td>\n",
       "      <td>0.901529</td>\n",
       "    </tr>\n",
       "    <tr>\n",
       "      <td>1600</td>\n",
       "      <td>ENSMUSG00000020585</td>\n",
       "      <td>0.445000</td>\n",
       "      <td>0.901529</td>\n",
       "    </tr>\n",
       "    <tr>\n",
       "      <td>4821</td>\n",
       "      <td>ENSMUSG00000006299</td>\n",
       "      <td>3.694238</td>\n",
       "      <td>0.901529</td>\n",
       "    </tr>\n",
       "  </tbody>\n",
       "</table>\n",
       "</div>"
      ],
      "text/plain": [
       "                       g         l      qval\n",
       "1609  ENSMUSG00000066392  0.445000  0.901529\n",
       "1608  ENSMUSG00000049612  0.445000  0.901529\n",
       "1607  ENSMUSG00000046834  0.445000  0.901529\n",
       "1606  ENSMUSG00000074797  0.445000  0.901529\n",
       "1605  ENSMUSG00000039716  0.445000  0.901529\n",
       "1604  ENSMUSG00000060198  0.445000  0.901529\n",
       "1603  ENSMUSG00000040747  0.445000  0.901529\n",
       "1602  ENSMUSG00000052512  0.445000  0.901529\n",
       "1600  ENSMUSG00000020585  0.445000  0.901529\n",
       "4821  ENSMUSG00000006299  3.694238  0.901529"
      ]
     },
     "execution_count": 10,
     "metadata": {},
     "output_type": "execute_result"
    }
   ],
   "source": [
    "results.sort_values('qval').tail(10)[['g', 'l', 'qval']]"
   ]
  },
  {
   "cell_type": "code",
   "execution_count": 12,
   "metadata": {},
   "outputs": [
    {
     "data": {
      "image/png": "[encoded data removed]",
      "text/plain": [
       "<Figure size 720x216 with 6 Axes>"
      ]
     },
     "metadata": {
      "needs_background": "light"
     },
     "output_type": "display_data"
    }
   ],
   "source": [
    "figsize(10, 3)\n",
    "for i, g in enumerate(['ENSMUSG00000066392', 'ENSMUSG00000049612', 'ENSMUSG00000046834']):\n",
    "    plt.subplot(1, 3, i + 1)\n",
    "    plt.scatter(sample_info['x'], sample_info['y'], c=norm_expr[g]);\n",
    "    plt.title(g)\n",
    "    plt.axis('equal')\n",
    "\n",
    "\n",
    "    plt.colorbar(ticks=[]);"
   ]
  },
  {
   "cell_type": "code",
   "execution_count": 13,
   "metadata": {},
   "outputs": [
    {
     "data": {
      "image/png": "[encoded data removed]",
      "text/plain": [
       "<Figure size 360x288 with 1 Axes>"
      ]
     },
     "metadata": {
      "needs_background": "light"
     },
     "output_type": "display_data"
    }
   ],
   "source": [
    "figsize(5, 4)\n",
    "plt.yscale('log')\n",
    "\n",
    "plt.scatter(results['FSV'], results['qval'], c='black')\n",
    "\n",
    "plt.axhline(0.05, c='black', lw=1, ls='--');\n",
    "\n",
    "plt.gca().invert_yaxis();\n",
    "plt.xlabel('Fraction spatial variance')\n",
    "plt.ylabel('Adj. P-value');"
   ]
  }
 ],
 "metadata": {
  "kernelspec": {
   "display_name": "Python 3",
   "language": "python",
   "name": "python3"
  },
  "language_info": {
   "codemirror_mode": {
    "name": "ipython",
    "version": 3
   },
   "file_extension": ".py",
   "mimetype": "text/x-python",
   "name": "python",
   "nbconvert_exporter": "python",
   "pygments_lexer": "ipython3",
   "version": "3.7.4"
  }
 },
 "nbformat": 4,
 "nbformat_minor": 2
}
