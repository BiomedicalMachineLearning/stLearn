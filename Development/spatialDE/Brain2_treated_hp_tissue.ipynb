{
 "cells": [
  {
   "cell_type": "code",
   "execution_count": 1,
   "metadata": {},
   "outputs": [
    {
     "name": "stdout",
     "output_type": "stream",
     "text": [
      "Populating the interactive namespace from numpy and matplotlib\n"
     ]
    }
   ],
   "source": [
    "%pylab inline\n",
    "import pandas as pd\n",
    "\n",
    "rcParams['axes.spines.right'] = False\n",
    "rcParams['axes.spines.top'] = False\n",
    "\n",
    "import NaiveDE\n",
    "import SpatialDE"
   ]
  },
  {
   "cell_type": "code",
   "execution_count": 2,
   "metadata": {},
   "outputs": [
    {
     "name": "stdout",
     "output_type": "stream",
     "text": [
      "(43, 9324)\n"
     ]
    },
    {
     "data": {
      "text/html": [
       "<div>\n",
       "<style scoped>\n",
       "    .dataframe tbody tr th:only-of-type {\n",
       "        vertical-align: middle;\n",
       "    }\n",
       "\n",
       "    .dataframe tbody tr th {\n",
       "        vertical-align: top;\n",
       "    }\n",
       "\n",
       "    .dataframe thead th {\n",
       "        text-align: right;\n",
       "    }\n",
       "</style>\n",
       "<table border=\"1\" class=\"dataframe\">\n",
       "  <thead>\n",
       "    <tr style=\"text-align: right;\">\n",
       "      <th></th>\n",
       "      <th>ENSMUSG00000098104</th>\n",
       "      <th>ENSMUSG00000033845</th>\n",
       "      <th>ENSMUSG00000025903</th>\n",
       "      <th>ENSMUSG00000033813</th>\n",
       "      <th>ENSMUSG00000002459</th>\n",
       "    </tr>\n",
       "  </thead>\n",
       "  <tbody>\n",
       "    <tr>\n",
       "      <td>24.0x14.93</td>\n",
       "      <td>0.0</td>\n",
       "      <td>0.0</td>\n",
       "      <td>0.0</td>\n",
       "      <td>0.0</td>\n",
       "      <td>0.0</td>\n",
       "    </tr>\n",
       "    <tr>\n",
       "      <td>25.04x13.95</td>\n",
       "      <td>0.0</td>\n",
       "      <td>0.0</td>\n",
       "      <td>0.0</td>\n",
       "      <td>0.0</td>\n",
       "      <td>0.0</td>\n",
       "    </tr>\n",
       "    <tr>\n",
       "      <td>25.04x14.93</td>\n",
       "      <td>0.0</td>\n",
       "      <td>0.0</td>\n",
       "      <td>0.0</td>\n",
       "      <td>0.0</td>\n",
       "      <td>0.0</td>\n",
       "    </tr>\n",
       "    <tr>\n",
       "      <td>25.04x15.95</td>\n",
       "      <td>0.0</td>\n",
       "      <td>0.0</td>\n",
       "      <td>0.0</td>\n",
       "      <td>0.0</td>\n",
       "      <td>0.0</td>\n",
       "    </tr>\n",
       "    <tr>\n",
       "      <td>26.02x13.95</td>\n",
       "      <td>0.0</td>\n",
       "      <td>0.0</td>\n",
       "      <td>0.0</td>\n",
       "      <td>0.0</td>\n",
       "      <td>0.0</td>\n",
       "    </tr>\n",
       "  </tbody>\n",
       "</table>\n",
       "</div>"
      ],
      "text/plain": [
       "             ENSMUSG00000098104  ENSMUSG00000033845  ENSMUSG00000025903  \\\n",
       "24.0x14.93                  0.0                 0.0                 0.0   \n",
       "25.04x13.95                 0.0                 0.0                 0.0   \n",
       "25.04x14.93                 0.0                 0.0                 0.0   \n",
       "25.04x15.95                 0.0                 0.0                 0.0   \n",
       "26.02x13.95                 0.0                 0.0                 0.0   \n",
       "\n",
       "             ENSMUSG00000033813  ENSMUSG00000002459  \n",
       "24.0x14.93                  0.0                 0.0  \n",
       "25.04x13.95                 0.0                 0.0  \n",
       "25.04x14.93                 0.0                 0.0  \n",
       "25.04x15.95                 0.0                 0.0  \n",
       "26.02x13.95                 0.0                 0.0  "
      ]
     },
     "execution_count": 2,
     "metadata": {},
     "output_type": "execute_result"
    }
   ],
   "source": [
    "counts = pd.read_csv('Data/Brain2_treated_hp_tissue.tsv', sep='\\t',index_col=0)\n",
    "counts = counts.T[counts.sum(0) >= 3].T  # Filter practically unobserved genes\n",
    "print(counts.shape)\n",
    "counts.iloc[:5, :5]"
   ]
  },
  {
   "cell_type": "code",
   "execution_count": 3,
   "metadata": {},
   "outputs": [
    {
     "data": {
      "text/html": [
       "<div>\n",
       "<style scoped>\n",
       "    .dataframe tbody tr th:only-of-type {\n",
       "        vertical-align: middle;\n",
       "    }\n",
       "\n",
       "    .dataframe tbody tr th {\n",
       "        vertical-align: top;\n",
       "    }\n",
       "\n",
       "    .dataframe thead th {\n",
       "        text-align: right;\n",
       "    }\n",
       "</style>\n",
       "<table border=\"1\" class=\"dataframe\">\n",
       "  <thead>\n",
       "    <tr style=\"text-align: right;\">\n",
       "      <th></th>\n",
       "      <th>x</th>\n",
       "      <th>y</th>\n",
       "      <th>total_counts</th>\n",
       "    </tr>\n",
       "  </thead>\n",
       "  <tbody>\n",
       "    <tr>\n",
       "      <td>24.0x14.93</td>\n",
       "      <td>24.00</td>\n",
       "      <td>14.93</td>\n",
       "      <td>2689.0</td>\n",
       "    </tr>\n",
       "    <tr>\n",
       "      <td>25.04x13.95</td>\n",
       "      <td>25.04</td>\n",
       "      <td>13.95</td>\n",
       "      <td>4256.0</td>\n",
       "    </tr>\n",
       "    <tr>\n",
       "      <td>25.04x14.93</td>\n",
       "      <td>25.04</td>\n",
       "      <td>14.93</td>\n",
       "      <td>2591.0</td>\n",
       "    </tr>\n",
       "    <tr>\n",
       "      <td>25.04x15.95</td>\n",
       "      <td>25.04</td>\n",
       "      <td>15.95</td>\n",
       "      <td>5819.0</td>\n",
       "    </tr>\n",
       "    <tr>\n",
       "      <td>26.02x13.95</td>\n",
       "      <td>26.02</td>\n",
       "      <td>13.95</td>\n",
       "      <td>4377.0</td>\n",
       "    </tr>\n",
       "  </tbody>\n",
       "</table>\n",
       "</div>"
      ],
      "text/plain": [
       "                 x      y  total_counts\n",
       "24.0x14.93   24.00  14.93        2689.0\n",
       "25.04x13.95  25.04  13.95        4256.0\n",
       "25.04x14.93  25.04  14.93        2591.0\n",
       "25.04x15.95  25.04  15.95        5819.0\n",
       "26.02x13.95  26.02  13.95        4377.0"
      ]
     },
     "execution_count": 3,
     "metadata": {},
     "output_type": "execute_result"
    }
   ],
   "source": [
    "sample_info = pd.DataFrame(0, index = counts.index, columns = ['x','y','total_counts'])\n",
    "sample_info.loc[:,'x'] = [float(item.split('x')[0]) for item in sample_info.index]\n",
    "sample_info.loc[:,'y'] = [float(item.split('x')[1]) for item in sample_info.index]\n",
    "sample_info.loc[:,'total_counts'] = counts.sum(axis=1)\n",
    "sample_info.head(5)"
   ]
  },
  {
   "cell_type": "code",
   "execution_count": 4,
   "metadata": {},
   "outputs": [
    {
     "data": {
      "image/png": "[encoded data removed]",
      "text/plain": [
       "<Figure size 432x288 with 1 Axes>"
      ]
     },
     "metadata": {
      "needs_background": "light"
     },
     "output_type": "display_data"
    }
   ],
   "source": [
    "figsize(6, 4)\n",
    "plt.scatter(sample_info['x'], sample_info['y'], c='k');\n",
    "plt.axis('equal');"
   ]
  },
  {
   "cell_type": "code",
   "execution_count": 5,
   "metadata": {},
   "outputs": [],
   "source": [
    "norm_expr = NaiveDE.stabilize(counts.T).T\n",
    "resid_expr = NaiveDE.regress_out(sample_info, norm_expr.T, 'np.log(total_counts)').T"
   ]
  },
  {
   "cell_type": "code",
   "execution_count": 6,
   "metadata": {},
   "outputs": [
    {
     "data": {
      "application/vnd.jupyter.widget-view+json": {
       "model_id": "c09ffe5e3f6549c389195f0132440d46",
       "version_major": 2,
       "version_minor": 0
      },
      "text/plain": [
       "HBox(children=(IntProgress(value=0, description='Models: ', max=10, style=ProgressStyle(description_width='ini…"
      ]
     },
     "metadata": {},
     "output_type": "display_data"
    },
    {
     "data": {
      "application/vnd.jupyter.widget-view+json": {
       "model_id": "",
       "version_major": 2,
       "version_minor": 0
      },
      "text/plain": [
       "HBox(children=(IntProgress(value=0, max=9324), HTML(value='')))"
      ]
     },
     "metadata": {},
     "output_type": "display_data"
    },
    {
     "data": {
      "application/vnd.jupyter.widget-view+json": {
       "model_id": "",
       "version_major": 2,
       "version_minor": 0
      },
      "text/plain": [
       "HBox(children=(IntProgress(value=0, max=9324), HTML(value='')))"
      ]
     },
     "metadata": {},
     "output_type": "display_data"
    },
    {
     "data": {
      "application/vnd.jupyter.widget-view+json": {
       "model_id": "",
       "version_major": 2,
       "version_minor": 0
      },
      "text/plain": [
       "HBox(children=(IntProgress(value=0, max=9324), HTML(value='')))"
      ]
     },
     "metadata": {},
     "output_type": "display_data"
    },
    {
     "data": {
      "application/vnd.jupyter.widget-view+json": {
       "model_id": "",
       "version_major": 2,
       "version_minor": 0
      },
      "text/plain": [
       "HBox(children=(IntProgress(value=0, max=9324), HTML(value='')))"
      ]
     },
     "metadata": {},
     "output_type": "display_data"
    },
    {
     "data": {
      "application/vnd.jupyter.widget-view+json": {
       "model_id": "",
       "version_major": 2,
       "version_minor": 0
      },
      "text/plain": [
       "HBox(children=(IntProgress(value=0, max=9324), HTML(value='')))"
      ]
     },
     "metadata": {},
     "output_type": "display_data"
    },
    {
     "data": {
      "application/vnd.jupyter.widget-view+json": {
       "model_id": "",
       "version_major": 2,
       "version_minor": 0
      },
      "text/plain": [
       "HBox(children=(IntProgress(value=0, max=9324), HTML(value='')))"
      ]
     },
     "metadata": {},
     "output_type": "display_data"
    },
    {
     "data": {
      "application/vnd.jupyter.widget-view+json": {
       "model_id": "",
       "version_major": 2,
       "version_minor": 0
      },
      "text/plain": [
       "HBox(children=(IntProgress(value=0, max=9324), HTML(value='')))"
      ]
     },
     "metadata": {},
     "output_type": "display_data"
    },
    {
     "data": {
      "application/vnd.jupyter.widget-view+json": {
       "model_id": "",
       "version_major": 2,
       "version_minor": 0
      },
      "text/plain": [
       "HBox(children=(IntProgress(value=0, max=9324), HTML(value='')))"
      ]
     },
     "metadata": {},
     "output_type": "display_data"
    },
    {
     "data": {
      "application/vnd.jupyter.widget-view+json": {
       "model_id": "",
       "version_major": 2,
       "version_minor": 0
      },
      "text/plain": [
       "HBox(children=(IntProgress(value=0, max=9324), HTML(value='')))"
      ]
     },
     "metadata": {},
     "output_type": "display_data"
    },
    {
     "data": {
      "application/vnd.jupyter.widget-view+json": {
       "model_id": "",
       "version_major": 2,
       "version_minor": 0
      },
      "text/plain": [
       "HBox(children=(IntProgress(value=0, max=9324), HTML(value='')))"
      ]
     },
     "metadata": {},
     "output_type": "display_data"
    },
    {
     "name": "stdout",
     "output_type": "stream",
     "text": [
      "\n"
     ]
    }
   ],
   "source": [
    "sample_resid_expr = resid_expr.sample(n=len(counts.columns), axis=1, random_state=1)\n",
    "\n",
    "X = sample_info[['x', 'y']]\n",
    "sample_resid_expr.head()\n",
    "results = SpatialDE.run(X, sample_resid_expr)"
   ]
  },
  {
   "cell_type": "code",
   "execution_count": 8,
   "metadata": {},
   "outputs": [
    {
     "data": {
      "text/html": [
       "<div>\n",
       "<style scoped>\n",
       "    .dataframe tbody tr th:only-of-type {\n",
       "        vertical-align: middle;\n",
       "    }\n",
       "\n",
       "    .dataframe tbody tr th {\n",
       "        vertical-align: top;\n",
       "    }\n",
       "\n",
       "    .dataframe thead th {\n",
       "        text-align: right;\n",
       "    }\n",
       "</style>\n",
       "<table border=\"1\" class=\"dataframe\">\n",
       "  <thead>\n",
       "    <tr style=\"text-align: right;\">\n",
       "      <th></th>\n",
       "      <th>0</th>\n",
       "      <th>1</th>\n",
       "      <th>2</th>\n",
       "      <th>3</th>\n",
       "      <th>4</th>\n",
       "    </tr>\n",
       "  </thead>\n",
       "  <tbody>\n",
       "    <tr>\n",
       "      <td>FSV</td>\n",
       "      <td>2.05e-09</td>\n",
       "      <td>2.05e-09</td>\n",
       "      <td>2.05e-09</td>\n",
       "      <td>2.05e-09</td>\n",
       "      <td>2.05e-09</td>\n",
       "    </tr>\n",
       "    <tr>\n",
       "      <td>M</td>\n",
       "      <td>4</td>\n",
       "      <td>4</td>\n",
       "      <td>4</td>\n",
       "      <td>4</td>\n",
       "      <td>4</td>\n",
       "    </tr>\n",
       "    <tr>\n",
       "      <td>g</td>\n",
       "      <td>ENSMUSG00000031916</td>\n",
       "      <td>ENSMUSG00000006288</td>\n",
       "      <td>ENSMUSG00000018076</td>\n",
       "      <td>ENSMUSG00000030309</td>\n",
       "      <td>ENSMUSG00000020346</td>\n",
       "    </tr>\n",
       "    <tr>\n",
       "      <td>l</td>\n",
       "      <td>0.425029</td>\n",
       "      <td>0.425029</td>\n",
       "      <td>0.425029</td>\n",
       "      <td>0.425029</td>\n",
       "      <td>0.425029</td>\n",
       "    </tr>\n",
       "    <tr>\n",
       "      <td>max_delta</td>\n",
       "      <td>4.85165e+08</td>\n",
       "      <td>4.85165e+08</td>\n",
       "      <td>4.85165e+08</td>\n",
       "      <td>4.85165e+08</td>\n",
       "      <td>4.85165e+08</td>\n",
       "    </tr>\n",
       "    <tr>\n",
       "      <td>max_ll</td>\n",
       "      <td>52.3206</td>\n",
       "      <td>52.9981</td>\n",
       "      <td>48.2689</td>\n",
       "      <td>52.5685</td>\n",
       "      <td>67.7861</td>\n",
       "    </tr>\n",
       "    <tr>\n",
       "      <td>max_mu_hat</td>\n",
       "      <td>1.63075</td>\n",
       "      <td>1.18631</td>\n",
       "      <td>1.58904</td>\n",
       "      <td>1.73607</td>\n",
       "      <td>1.73768</td>\n",
       "    </tr>\n",
       "    <tr>\n",
       "      <td>max_s2_t_hat</td>\n",
       "      <td>5.49191e-09</td>\n",
       "      <td>2.91097e-09</td>\n",
       "      <td>5.21727e-09</td>\n",
       "      <td>6.22268e-09</td>\n",
       "      <td>6.22891e-09</td>\n",
       "    </tr>\n",
       "    <tr>\n",
       "      <td>model</td>\n",
       "      <td>SE</td>\n",
       "      <td>SE</td>\n",
       "      <td>SE</td>\n",
       "      <td>SE</td>\n",
       "      <td>SE</td>\n",
       "    </tr>\n",
       "    <tr>\n",
       "      <td>n</td>\n",
       "      <td>43</td>\n",
       "      <td>43</td>\n",
       "      <td>43</td>\n",
       "      <td>43</td>\n",
       "      <td>43</td>\n",
       "    </tr>\n",
       "    <tr>\n",
       "      <td>s2_FSV</td>\n",
       "      <td>10.6419</td>\n",
       "      <td>1.73137</td>\n",
       "      <td>9.02999</td>\n",
       "      <td>12.984</td>\n",
       "      <td>4.75606</td>\n",
       "    </tr>\n",
       "    <tr>\n",
       "      <td>s2_logdelta</td>\n",
       "      <td>1.83353e+18</td>\n",
       "      <td>2.98303e+17</td>\n",
       "      <td>1.5558e+18</td>\n",
       "      <td>2.23706e+18</td>\n",
       "      <td>8.19436e+17</td>\n",
       "    </tr>\n",
       "    <tr>\n",
       "      <td>time</td>\n",
       "      <td>0.00135779</td>\n",
       "      <td>0.000998259</td>\n",
       "      <td>0.00199318</td>\n",
       "      <td>0.00199604</td>\n",
       "      <td>0.000997543</td>\n",
       "    </tr>\n",
       "    <tr>\n",
       "      <td>BIC</td>\n",
       "      <td>-89.5963</td>\n",
       "      <td>-90.9513</td>\n",
       "      <td>-81.4931</td>\n",
       "      <td>-90.0921</td>\n",
       "      <td>-120.527</td>\n",
       "    </tr>\n",
       "    <tr>\n",
       "      <td>max_ll_null</td>\n",
       "      <td>52.3147</td>\n",
       "      <td>52.9922</td>\n",
       "      <td>48.263</td>\n",
       "      <td>52.5626</td>\n",
       "      <td>67.7802</td>\n",
       "    </tr>\n",
       "    <tr>\n",
       "      <td>LLR</td>\n",
       "      <td>0.00590569</td>\n",
       "      <td>0.00590569</td>\n",
       "      <td>0.00590569</td>\n",
       "      <td>0.00590569</td>\n",
       "      <td>0.00590569</td>\n",
       "    </tr>\n",
       "    <tr>\n",
       "      <td>pval</td>\n",
       "      <td>0.938744</td>\n",
       "      <td>0.938744</td>\n",
       "      <td>0.938744</td>\n",
       "      <td>0.938744</td>\n",
       "      <td>0.938744</td>\n",
       "    </tr>\n",
       "    <tr>\n",
       "      <td>qval</td>\n",
       "      <td>0.938744</td>\n",
       "      <td>0.938744</td>\n",
       "      <td>0.938744</td>\n",
       "      <td>0.938744</td>\n",
       "      <td>0.938744</td>\n",
       "    </tr>\n",
       "  </tbody>\n",
       "</table>\n",
       "</div>"
      ],
      "text/plain": [
       "                               0                   1                   2  \\\n",
       "FSV                     2.05e-09            2.05e-09            2.05e-09   \n",
       "M                              4                   4                   4   \n",
       "g             ENSMUSG00000031916  ENSMUSG00000006288  ENSMUSG00000018076   \n",
       "l                       0.425029            0.425029            0.425029   \n",
       "max_delta            4.85165e+08         4.85165e+08         4.85165e+08   \n",
       "max_ll                   52.3206             52.9981             48.2689   \n",
       "max_mu_hat               1.63075             1.18631             1.58904   \n",
       "max_s2_t_hat         5.49191e-09         2.91097e-09         5.21727e-09   \n",
       "model                         SE                  SE                  SE   \n",
       "n                             43                  43                  43   \n",
       "s2_FSV                   10.6419             1.73137             9.02999   \n",
       "s2_logdelta          1.83353e+18         2.98303e+17          1.5558e+18   \n",
       "time                  0.00135779         0.000998259          0.00199318   \n",
       "BIC                     -89.5963            -90.9513            -81.4931   \n",
       "max_ll_null              52.3147             52.9922              48.263   \n",
       "LLR                   0.00590569          0.00590569          0.00590569   \n",
       "pval                    0.938744            0.938744            0.938744   \n",
       "qval                    0.938744            0.938744            0.938744   \n",
       "\n",
       "                               3                   4  \n",
       "FSV                     2.05e-09            2.05e-09  \n",
       "M                              4                   4  \n",
       "g             ENSMUSG00000030309  ENSMUSG00000020346  \n",
       "l                       0.425029            0.425029  \n",
       "max_delta            4.85165e+08         4.85165e+08  \n",
       "max_ll                   52.5685             67.7861  \n",
       "max_mu_hat               1.73607             1.73768  \n",
       "max_s2_t_hat         6.22268e-09         6.22891e-09  \n",
       "model                         SE                  SE  \n",
       "n                             43                  43  \n",
       "s2_FSV                    12.984             4.75606  \n",
       "s2_logdelta          2.23706e+18         8.19436e+17  \n",
       "time                  0.00199604         0.000997543  \n",
       "BIC                     -90.0921            -120.527  \n",
       "max_ll_null              52.5626             67.7802  \n",
       "LLR                   0.00590569          0.00590569  \n",
       "pval                    0.938744            0.938744  \n",
       "qval                    0.938744            0.938744  "
      ]
     },
     "execution_count": 8,
     "metadata": {},
     "output_type": "execute_result"
    }
   ],
   "source": [
    "results.head().T"
   ]
  },
  {
   "cell_type": "code",
   "execution_count": 9,
   "metadata": {},
   "outputs": [
    {
     "data": {
      "text/html": [
       "<div>\n",
       "<style scoped>\n",
       "    .dataframe tbody tr th:only-of-type {\n",
       "        vertical-align: middle;\n",
       "    }\n",
       "\n",
       "    .dataframe tbody tr th {\n",
       "        vertical-align: top;\n",
       "    }\n",
       "\n",
       "    .dataframe thead th {\n",
       "        text-align: right;\n",
       "    }\n",
       "</style>\n",
       "<table border=\"1\" class=\"dataframe\">\n",
       "  <thead>\n",
       "    <tr style=\"text-align: right;\">\n",
       "      <th></th>\n",
       "      <th>g</th>\n",
       "      <th>l</th>\n",
       "      <th>pval</th>\n",
       "      <th>qval</th>\n",
       "    </tr>\n",
       "  </thead>\n",
       "  <tbody>\n",
       "    <tr>\n",
       "      <td>8009</td>\n",
       "      <td>ENSMUSG00000038807</td>\n",
       "      <td>0.976084</td>\n",
       "      <td>0.000176</td>\n",
       "      <td>0.775803</td>\n",
       "    </tr>\n",
       "    <tr>\n",
       "      <td>7811</td>\n",
       "      <td>ENSMUSG00000045009</td>\n",
       "      <td>0.976084</td>\n",
       "      <td>0.000250</td>\n",
       "      <td>0.775803</td>\n",
       "    </tr>\n",
       "    <tr>\n",
       "      <td>8212</td>\n",
       "      <td>ENSMUSG00000043518</td>\n",
       "      <td>0.976084</td>\n",
       "      <td>0.000103</td>\n",
       "      <td>0.775803</td>\n",
       "    </tr>\n",
       "    <tr>\n",
       "      <td>6221</td>\n",
       "      <td>ENSMUSG00000090150</td>\n",
       "      <td>0.425029</td>\n",
       "      <td>0.938744</td>\n",
       "      <td>0.938744</td>\n",
       "    </tr>\n",
       "    <tr>\n",
       "      <td>6220</td>\n",
       "      <td>ENSMUSG00000024941</td>\n",
       "      <td>0.425029</td>\n",
       "      <td>0.938744</td>\n",
       "      <td>0.938744</td>\n",
       "    </tr>\n",
       "  </tbody>\n",
       "</table>\n",
       "</div>"
      ],
      "text/plain": [
       "                       g         l      pval      qval\n",
       "8009  ENSMUSG00000038807  0.976084  0.000176  0.775803\n",
       "7811  ENSMUSG00000045009  0.976084  0.000250  0.775803\n",
       "8212  ENSMUSG00000043518  0.976084  0.000103  0.775803\n",
       "6221  ENSMUSG00000090150  0.425029  0.938744  0.938744\n",
       "6220  ENSMUSG00000024941  0.425029  0.938744  0.938744"
      ]
     },
     "execution_count": 9,
     "metadata": {},
     "output_type": "execute_result"
    }
   ],
   "source": [
    "results.sort_values('qval').head(5)[['g', 'l', 'pval','qval']]"
   ]
  },
  {
   "cell_type": "code",
   "execution_count": 10,
   "metadata": {},
   "outputs": [
    {
     "data": {
      "image/png": "[encoded data removed]",
      "text/plain": [
       "<Figure size 720x216 with 6 Axes>"
      ]
     },
     "metadata": {
      "needs_background": "light"
     },
     "output_type": "display_data"
    }
   ],
   "source": [
    "figsize(10, 3)\n",
    "for i, g in enumerate(['ENSMUSG00000038807', 'ENSMUSG00000045009', 'ENSMUSG00000043518']):\n",
    "    plt.subplot(1, 3, i + 1)\n",
    "    plt.scatter(sample_info['x'], sample_info['y'], c=norm_expr[g]);\n",
    "    plt.title(g)\n",
    "    plt.axis('equal')\n",
    "\n",
    "\n",
    "    plt.colorbar(ticks=[]);"
   ]
  },
  {
   "cell_type": "code",
   "execution_count": 11,
   "metadata": {},
   "outputs": [
    {
     "data": {
      "text/html": [
       "<div>\n",
       "<style scoped>\n",
       "    .dataframe tbody tr th:only-of-type {\n",
       "        vertical-align: middle;\n",
       "    }\n",
       "\n",
       "    .dataframe tbody tr th {\n",
       "        vertical-align: top;\n",
       "    }\n",
       "\n",
       "    .dataframe thead th {\n",
       "        text-align: right;\n",
       "    }\n",
       "</style>\n",
       "<table border=\"1\" class=\"dataframe\">\n",
       "  <thead>\n",
       "    <tr style=\"text-align: right;\">\n",
       "      <th></th>\n",
       "      <th>g</th>\n",
       "      <th>l</th>\n",
       "      <th>qval</th>\n",
       "    </tr>\n",
       "  </thead>\n",
       "  <tbody>\n",
       "    <tr>\n",
       "      <td>3104</td>\n",
       "      <td>ENSMUSG00000050295</td>\n",
       "      <td>0.425029</td>\n",
       "      <td>0.938744</td>\n",
       "    </tr>\n",
       "    <tr>\n",
       "      <td>3105</td>\n",
       "      <td>ENSMUSG00000020849</td>\n",
       "      <td>0.425029</td>\n",
       "      <td>0.938744</td>\n",
       "    </tr>\n",
       "    <tr>\n",
       "      <td>3106</td>\n",
       "      <td>ENSMUSG00000056836</td>\n",
       "      <td>0.425029</td>\n",
       "      <td>0.938744</td>\n",
       "    </tr>\n",
       "    <tr>\n",
       "      <td>3107</td>\n",
       "      <td>ENSMUSG00000026921</td>\n",
       "      <td>0.425029</td>\n",
       "      <td>0.938744</td>\n",
       "    </tr>\n",
       "    <tr>\n",
       "      <td>3108</td>\n",
       "      <td>ENSMUSG00000047248</td>\n",
       "      <td>0.425029</td>\n",
       "      <td>0.938744</td>\n",
       "    </tr>\n",
       "    <tr>\n",
       "      <td>3109</td>\n",
       "      <td>ENSMUSG00000034621</td>\n",
       "      <td>0.425029</td>\n",
       "      <td>0.938744</td>\n",
       "    </tr>\n",
       "    <tr>\n",
       "      <td>3110</td>\n",
       "      <td>ENSMUSG00000021134</td>\n",
       "      <td>0.425029</td>\n",
       "      <td>0.938744</td>\n",
       "    </tr>\n",
       "    <tr>\n",
       "      <td>3111</td>\n",
       "      <td>ENSMUSG00000021379</td>\n",
       "      <td>0.425029</td>\n",
       "      <td>0.938744</td>\n",
       "    </tr>\n",
       "    <tr>\n",
       "      <td>3131</td>\n",
       "      <td>ENSMUSG00000038936</td>\n",
       "      <td>0.425029</td>\n",
       "      <td>0.938744</td>\n",
       "    </tr>\n",
       "    <tr>\n",
       "      <td>9323</td>\n",
       "      <td>ENSMUSG00000037126</td>\n",
       "      <td>5.147830</td>\n",
       "      <td>0.938744</td>\n",
       "    </tr>\n",
       "  </tbody>\n",
       "</table>\n",
       "</div>"
      ],
      "text/plain": [
       "                       g         l      qval\n",
       "3104  ENSMUSG00000050295  0.425029  0.938744\n",
       "3105  ENSMUSG00000020849  0.425029  0.938744\n",
       "3106  ENSMUSG00000056836  0.425029  0.938744\n",
       "3107  ENSMUSG00000026921  0.425029  0.938744\n",
       "3108  ENSMUSG00000047248  0.425029  0.938744\n",
       "3109  ENSMUSG00000034621  0.425029  0.938744\n",
       "3110  ENSMUSG00000021134  0.425029  0.938744\n",
       "3111  ENSMUSG00000021379  0.425029  0.938744\n",
       "3131  ENSMUSG00000038936  0.425029  0.938744\n",
       "9323  ENSMUSG00000037126  5.147830  0.938744"
      ]
     },
     "execution_count": 11,
     "metadata": {},
     "output_type": "execute_result"
    }
   ],
   "source": [
    "results.sort_values('qval').tail(10)[['g', 'l', 'qval']]"
   ]
  },
  {
   "cell_type": "code",
   "execution_count": 12,
   "metadata": {},
   "outputs": [
    {
     "data": {
      "image/png": "[encoded data removed]",
      "text/plain": [
       "<Figure size 720x216 with 6 Axes>"
      ]
     },
     "metadata": {
      "needs_background": "light"
     },
     "output_type": "display_data"
    }
   ],
   "source": [
    "figsize(10, 3)\n",
    "for i, g in enumerate(['ENSMUSG00000050295', 'ENSMUSG00000020849', 'ENSMUSG00000056836']):\n",
    "    plt.subplot(1, 3, i + 1)\n",
    "    plt.scatter(sample_info['x'], sample_info['y'], c=norm_expr[g]);\n",
    "    plt.title(g)\n",
    "    plt.axis('equal')\n",
    "\n",
    "\n",
    "    plt.colorbar(ticks=[]);"
   ]
  },
  {
   "cell_type": "code",
   "execution_count": 13,
   "metadata": {},
   "outputs": [
    {
     "data": {
      "image/png": "[encoded data removed]",
      "text/plain": [
       "<Figure size 360x288 with 1 Axes>"
      ]
     },
     "metadata": {
      "needs_background": "light"
     },
     "output_type": "display_data"
    }
   ],
   "source": [
    "figsize(5, 4)\n",
    "plt.yscale('log')\n",
    "\n",
    "plt.scatter(results['FSV'], results['qval'], c='black')\n",
    "\n",
    "plt.axhline(0.05, c='black', lw=1, ls='--');\n",
    "\n",
    "plt.gca().invert_yaxis();\n",
    "plt.xlabel('Fraction spatial variance')\n",
    "plt.ylabel('Adj. P-value');"
   ]
  }
 ],
 "metadata": {
  "kernelspec": {
   "display_name": "Python 3",
   "language": "python",
   "name": "python3"
  },
  "language_info": {
   "codemirror_mode": {
    "name": "ipython",
    "version": 3
   },
   "file_extension": ".py",
   "mimetype": "text/x-python",
   "name": "python",
   "nbconvert_exporter": "python",
   "pygments_lexer": "ipython3",
   "version": "3.7.4"
  }
 },
 "nbformat": 4,
 "nbformat_minor": 2
}
